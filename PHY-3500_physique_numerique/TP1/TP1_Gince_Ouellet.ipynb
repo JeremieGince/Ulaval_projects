{
 "cells": [
  {
   "cell_type": "markdown",
   "metadata": {},
   "source": [
    "# TP 1: Parcours des protons dans la matière\n",
    "\n",
    "## Fait par: \n",
    "    Jérémie Gince (111 224 046)\n",
    "    Samuel Ouellet (111 233 977)"
   ]
  },
  {
   "cell_type": "code",
   "execution_count": 1,
   "metadata": {
    "pycharm": {
     "is_executing": false
    }
   },
   "outputs": [],
   "source": [
    "# On fait quelques import importants:\n",
    "%matplotlib inline\n",
    "import matplotlib.pyplot as plt\n",
    "import numpy as np\n",
    "import os\n",
    "import pandas\n",
    "import scipy as sp\n",
    "from scipy import constants as phys_const\n",
    "import timeit\n",
    "import sympy as sy"
   ]
  },
  {
   "cell_type": "markdown",
   "metadata": {},
   "source": [
    "## Question 1"
   ]
  },
  {
   "cell_type": "markdown",
   "metadata": {},
   "source": [
    "Selon l'article au lien suivant:\n",
    "\n",
    "$$\\href{https://www.ncbi.nlm.nih.gov/pmc/articles/PMC4407514/}{https://www.ncbi.nlm.nih.gov/pmc/articles/PMC4407514/}$$\n",
    "\n",
    "Nous avons que l'énergie ($T$) va de 1 Mev jusqu'à 250 Mev."
   ]
  },
  {
   "cell_type": "markdown",
   "metadata": {},
   "source": [
    "Avec la relativité restreinte, nous avons que\n",
    "\n",
    "$$T = (\\gamma - 1) m_0 c^2$$\n",
    "\n",
    "alors,\n",
    "\n",
    "$$\\implies \\gamma = \\frac{T}{m_0 c^2} + 1 $$"
   ]
  },
  {
   "cell_type": "markdown",
   "metadata": {},
   "source": [
    "De plus, selon la relativité restreinte encore:\n",
    "\n",
    "$$\\gamma = \\frac{1}{\\sqrt{1 - \\beta^2}}$$\n",
    "\n",
    "$$\\implies \\beta = \\sqrt{1 - \\frac{1}{\\gamma^2}} $$"
   ]
  },
  {
   "cell_type": "code",
   "execution_count": 2,
   "metadata": {
    "pycharm": {
     "is_executing": false
    }
   },
   "outputs": [],
   "source": [
    "# Constantes d'énergie afin de respecter les approximations liés au prochain model.\n",
    "MIN_ENERGY_PROTON_THERAPY: float = 3.0  # [MeV]\n",
    "MAX_ENERGY_PROTON_THERAPY: float = 250.0  # [MeV]"
   ]
  },
  {
   "cell_type": "markdown",
   "metadata": {},
   "source": [
    "## Question 2"
   ]
  },
  {
   "cell_type": "markdown",
   "metadata": {},
   "source": [
    "Pour commencer, puisque nous cherchons une densité d'électron, celle-ci correspond donc au nombre d'électron par gramme multiplié par la densité volumique.\n",
    "\n",
    "$$n_e = N_e\\rho $$\n",
    "\n",
    "Puisqu'il y a plusieurs atomes, avec des proportions différentes, nous devons donc considérer la masse molaire et \n",
    "le nombre d'avogadro ainsi que les proportions afin de déterminer le nombre d'électron par gramme\n",
    "\n",
    "$$N_e = \\sum_i\\frac{ Z_i \\xi_i N_0}{M_i}$$\n",
    "\n",
    "où $Z_i$ est la nombre atomique de l'élément i,\n",
    "   $\\xi_i$ est l'abondance relative de l'élément i,\n",
    "   $N_0$ est le nombre d'avogadro,\n",
    "   $M_i$ est la masse molaire de l'élément i.\n",
    "\n"
   ]
  },
  {
   "cell_type": "markdown",
   "metadata": {},
   "source": [
    "Ici, on déclare une classe *Material*."
   ]
  },
  {
   "cell_type": "code",
   "execution_count": 3,
   "metadata": {
    "pycharm": {
     "is_executing": false
    }
   },
   "outputs": [],
   "source": [
    "class Material:\n",
    "    \"\"\"\n",
    "    :class Material: \n",
    "        Cette class englobe les propriétés physiques d'un matériel\n",
    "        qui subira une irradiation aux protons afin d'y observer les effets.\n",
    "    \"\"\"\n",
    "    #Dictionnaire des valeurs de masse-molaire selon le numéro atomique\n",
    "    _Z_to_molar_mass: dict = {\n",
    "    #   Z: molar mass [g/mol]\n",
    "        1: 1.008,\n",
    "        6: 12.011,\n",
    "        7: 14.007,\n",
    "        8: 15.999,\n",
    "        12: 24.305,\n",
    "        15: 30.974,\n",
    "        16: 32.06,\n",
    "        20: 40.078,\n",
    "        30: 65.38\n",
    "    }\n",
    "    \n",
    "    # densité volumique du icrp, [icrp : = cortical bone]\n",
    "    # source du NIST: https://physics.nist.gov/cgi-bin/Star/compos.pl?refer=ap&matno=120}{https://physics.nist.gov/cgi-bin/Star/compos.pl?refer=ap&matno=120\n",
    "    _density_icrp: float = 1.85  # [g/cm^3]\n",
    "    \n",
    "    \n",
    "    #Dictionnaire des valeurs d'abbondance relative dans la \n",
    "    #composition de l'os cortical selon le numéro atomique\n",
    "    _composition_icrp: dict = {\n",
    "    #   Z: abondance relative\n",
    "        1: 0.047234,\n",
    "        6: 0.144330,\n",
    "        7: 0.041990,\n",
    "        8: 0.446096,\n",
    "        12: 0.002200,\n",
    "        15: 0.104970,\n",
    "        16: 0.003150,\n",
    "        20: 0.209930,\n",
    "        30: 0.000100\n",
    "    }\n",
    "    \n",
    "    \n",
    "    # densité volumique du icru, [icru := Bone Compact]\n",
    "    # Source du NIST: https://physics.nist.gov/cgi-bin/Star/compos.pl?refer=ap&matno=119\n",
    "    _density_icru: float = 1.85  # [g/cm^3]\n",
    "    \n",
    "    #Dictionnaire des valeurs d'abbondance relative dans la \n",
    "    #composition de l'os compact selon le numéro atomique\n",
    "    _composition_icru: dict = {\n",
    "    #   Z: abondance relative\n",
    "        1: 0.063984,\n",
    "        6: 0.278000,\n",
    "        7: 0.027000,\n",
    "        8: 0.410016,\n",
    "        12: 0.002000,\n",
    "        15: 0.070000,\n",
    "        16: 0.002000,\n",
    "        20: 0.147000\n",
    "    }\n",
    "    \n",
    "    \n",
    "    _density_water: float = 1.00  # [g/cm^3]\n",
    "    \n",
    "    #Dictionnaire des valeurs d'abbondance relative dans la \n",
    "    #composition de l'eau selon le numéro atomique\n",
    "    _composition_water: dict = {\n",
    "    #   Z: abondance relative\n",
    "        1: 0.111894,\n",
    "        8: 0.888106\n",
    "    }\n",
    "    \n",
    "    _compositions: dict = {\n",
    "        \"icrp\": _composition_icrp,\n",
    "        \"cortical bone\": _composition_icrp,\n",
    "        \"water\": _composition_water,\n",
    "        \"H2O\": _composition_water,\n",
    "        \"icru\": _composition_icru,\n",
    "        \"compact bone\": _composition_icru,\n",
    "    }\n",
    "    \n",
    "    _densities: dict = {\n",
    "        \"icrp\": _density_icrp,\n",
    "        \"cortical bone\": _density_icrp,\n",
    "        \"water\": _density_water,\n",
    "        \"H2O\": _density_water,\n",
    "        \"icru\": _density_icru,\n",
    "        \"compact bone\": _density_icru,\n",
    "    }\n",
    "        \n",
    "    _mean_excitation_energies: dict = {\n",
    "    #   Materiel: I [eV]\n",
    "        \"cortical bone\": 106.4,\n",
    "        \"icrp\": 106.4,\n",
    "        \"water\": 75.0,\n",
    "        \"H2O\": 75.0,\n",
    "        \"compact bone\": 91.9,\n",
    "        \"icru\": 91.9,\n",
    "    }\n",
    "    \n",
    "    def __init__(self, name: str, composition: dict = None, density: float = None,\n",
    "                 mean_excitation_energy: float = None) -> None:\n",
    "        \"\"\"\n",
    "        Constructeur de la class Material.\n",
    "        \n",
    "        :param name: Nom du matériel (str)\n",
    "        :param composition: Dictionnaire comportant la composition du matériel\n",
    "                            \n",
    "                            composition: (dict) = {\n",
    "                                Z_i: abondance relative i\n",
    "                            }\n",
    "                            \n",
    "        :param density: Densité du matériel (float)\n",
    "        :param mean_excitation_energy: Energie moyenne d'excitation du matériel [eV] (float)\n",
    "        \"\"\"\n",
    "        \n",
    "        self._name: str = name        \n",
    "        self._setCompositionAttribute(name, composition)\n",
    "        self._setDensityAttribute(name, density)\n",
    "        self._setMeanExcitationEnergyAttribute(name, mean_excitation_energy)        \n",
    "        \n",
    "        # Updating the Material _compostions\n",
    "        if name not in Material._compositions:\n",
    "            Material._compositions[name] = composition\n",
    "        \n",
    "        # Updating the Material _densities\n",
    "        if name not in Material._densities:\n",
    "            Material._densities[name] = density\n",
    "        \n",
    "        # Updating the Material _mean_excitation_energies\n",
    "        if name not in Material._mean_excitation_energies:\n",
    "            Material._mean_excitation_energies[name] = mean_excitation_energy\n",
    "    \n",
    "    def _setCompositionAttribute(self, name, composition):\n",
    "        \"\"\"\n",
    "        Setter de l'attribut _composition.\n",
    "        :param name: Le nom du matériel donné en paramètres du constructeur.\n",
    "        :param composition: La compostion donnée en paramètres du constructeur.\n",
    "        \"\"\"\n",
    "        if composition is not None:\n",
    "            self._composition = composition\n",
    "        elif name in Material._compositions:\n",
    "            self._composition = Material._compositions[name]\n",
    "        else:\n",
    "            raise AttributeError(\"This material is unknown, please set the composition dict parameter.\")\n",
    "    \n",
    "    def _setDensityAttribute(self, name, density):\n",
    "        if density is not None:\n",
    "            self._density = density\n",
    "        elif name in Material._densities:\n",
    "            self._density = Material._densities[name]\n",
    "        else:\n",
    "            raise AttributeError(\"This material is unknown, please set the density parameter.\")\n",
    "    \n",
    "    def _setMeanExcitationEnergyAttribute(self, name, mean_excitation_energy):\n",
    "        if mean_excitation_energy is not None:\n",
    "            self._mean_excitation_energy = mean_excitation_energy\n",
    "        elif name in Material._densities:\n",
    "            self._mean_excitation_energy = Material._mean_excitation_energies[name]\n",
    "        else:\n",
    "            raise AttributeError(\"This material is unknown, please set the mean_excitation_energy parameter.\")\n",
    "    \n",
    "    @property\n",
    "    def Density(self) -> float:\n",
    "        \"\"\"\n",
    "        Density property.\n",
    "        :return: La densité du matériel courant (float)\n",
    "        \"\"\"\n",
    "        return self._density\n",
    "    \n",
    "    @property\n",
    "    def Name(self) -> str:\n",
    "        \"\"\"\n",
    "        Name property.\n",
    "        :return: Nom du matériel courant (str)\n",
    "        \"\"\"\n",
    "        return self._name\n",
    "    \n",
    "    def getName(self) -> str:\n",
    "        \"\"\"\n",
    "        Getter de l'attribut _name du l'objet courant.\n",
    "        :return: Le nom du matériel courant (str)\n",
    "        \"\"\"\n",
    "        return self._name\n",
    "    \n",
    "    def setName(self, new_name: str):\n",
    "        \"\"\"\n",
    "        Setter de l'attribut _name de l'objet courant.\n",
    "        Change le nom de l'objet ainsi que sa composition, sa densité et son énergie moyenne d'excitation.\n",
    "        new_name doit être connue. i.e new_name doit être dans Material._compositions\n",
    "        :param new_name: Nouveau nom du matériel (str)\n",
    "        :return: \n",
    "        \"\"\"\n",
    "        assert new_name in self._compositions\n",
    "        self._name = new_name\n",
    "        self._composition = self._compositions[new_name]\n",
    "        self._density = self._densities[new_name]\n",
    "        self._mean_excitation_energy = self._mean_excitation_energies[new_name]\n",
    "    \n",
    "    def getNe(self) -> np.ndarray :\n",
    "        \"\"\"\n",
    "        Getter du nombre d'électron par gramme du matériel courant. [1/kg]\n",
    "        :return: Nombre d'électron par gramme [1/kg] (ndarray)\n",
    "        \"\"\"\n",
    "        N_0: float = phys_const.Avogadro\n",
    "        return N_0*np.sum([(Z_i*xi_i)/Material._Z_to_molar_mass[Z_i] for Z_i, xi_i in self._composition.items()])\n",
    "\n",
    "    def getElectronicDensity(self) -> float:\n",
    "        \"\"\"\n",
    "        Getter de la densité électronique du matériel courant.\n",
    "        :return: Densité électronique (float)\n",
    "        \"\"\"\n",
    "        return self.getNe()*self._density\n",
    "    \n",
    "    @staticmethod\n",
    "    def getGamma(T):\n",
    "        \"\"\"\n",
    "        Getter du facteur Gamma de Lorentz.\n",
    "        :param T: Énergie cinétique du proton. (float or np.ndarray)\n",
    "        :return: Facteur gamma (type(T))\n",
    "        \"\"\"\n",
    "        m_p = phys_const.physical_constants[\"proton mass energy equivalent in MeV\"][0]\n",
    "        return (T/(m_p)) + 1\n",
    "    \n",
    "    @staticmethod\n",
    "    def getBeta(T):\n",
    "        \"\"\"\n",
    "        Getter du facteur beta de Lorentz.\n",
    "        :param T: Énergie cinétique du proton. (float or np.ndarray)\n",
    "        :return: Facteur beta (type(T))\n",
    "        \"\"\"\n",
    "        return np.sqrt(1 - Material.getGamma(T)**(-2))\n",
    "    \n",
    "    @staticmethod\n",
    "    def getTeMax(T):\n",
    "        \"\"\"\n",
    "        Getter de l’énergie maximale transférable à un électron par le proton.\n",
    "        :param T: Énergie cinétique du proton. (float or np.ndarray)\n",
    "        :return: Énergie maximale transférable (type(T))\n",
    "        \"\"\"\n",
    "        m_e = phys_const.physical_constants[\"electron mass energy equivalent in MeV\"][0]\n",
    "        m_p = phys_const.physical_constants[\"proton mass energy equivalent in MeV\"][0]\n",
    "        rap_me_mp = m_e/m_p\n",
    "        num = 2*m_e*(Material.getGamma(T)**2 - 1)\n",
    "        denum = 1 + 2*Material.getGamma(T)*rap_me_mp + rap_me_mp**2\n",
    "        return num/denum\n",
    "    \n",
    "    def getScol(self, T):\n",
    "        \"\"\"\n",
    "        Getter du pouvoir d'arrêt colissionnel du matériel.\n",
    "        :param T: Énergy cinétique du proton (float or np.ndarray)\n",
    "        :return: Le pouvoir d'arrêt colissionnel du matériel. (type(T))\n",
    "        \"\"\"\n",
    "        r_e: float = phys_const.physical_constants[\"classical electron radius\"][0] * 100 # [cm]\n",
    "        m_e = phys_const.physical_constants[\"electron mass energy equivalent in MeV\"][0]\n",
    "        gamma = self.getGamma(T)\n",
    "        beta = self.getBeta(T)\n",
    "        n_e = self.getElectronicDensity()\n",
    "        TeMax = self.getTeMax(T)\n",
    "        I = self._mean_excitation_energy/ 1e6  # [MeV]\n",
    "        \n",
    "        coeff0 = 2*np.pi*(r_e**2)*m_e*n_e*(beta**(-2))\n",
    "        ln_arg = (2*m_e*(beta**2)*(gamma**2)*TeMax)/(I**2)\n",
    "        return coeff0*(np.log(ln_arg) - 2*(beta**2))\n",
    "    \n",
    "    def showScol(self, bounds: (float, float) = (MIN_ENERGY_PROTON_THERAPY, MAX_ENERGY_PROTON_THERAPY)):\n",
    "        \"\"\"\n",
    "        Affiche le pouvoir d'arrêt colissionnel du matériel en fonction de l'énergie cinétique des protons.\n",
    "        \"\"\"\n",
    "        fig = plt.figure()\n",
    "        ax = fig.add_subplot(1, 1, 1)\n",
    "        T = np.linspace(bounds[0], bounds[1], 1_000_000)\n",
    "\n",
    "        line, = ax.plot(T, self.getScol(T), color='blue', lw=2)\n",
    "        ax.set_xscale('log')\n",
    "        ax.set_title(self.getName())\n",
    "        ax.set_xlabel(\"Énergie total [$MeV$]\")\n",
    "        ax.set_ylabel(\"Pouvoirs d'arrêt collisionnel \\n [$MeV \\; cm^2/g$]\")\n",
    "\n",
    "        plt.grid()\n",
    "        plt.show()\n",
    "        plt.close(fig)"
   ]
  },
  {
   "cell_type": "code",
   "execution_count": 4,
   "metadata": {
    "pycharm": {
     "is_executing": false
    }
   },
   "outputs": [],
   "source": [
    "icrp = Material(name=\"icrp\")\n",
    "water = Material(name=\"water\")\n",
    "\n",
    "materials = [icrp, water]"
   ]
  },
  {
   "cell_type": "markdown",
   "metadata": {},
   "source": [
    "On affiche les données calculées avec le présent modèle."
   ]
  },
  {
   "cell_type": "code",
   "execution_count": null,
   "metadata": {
    "pycharm": {
     "is_executing": true
    }
   },
   "outputs": [],
   "source": [
    "# We plot the Scol of the materials.\n",
    "\n",
    "for material in materials:\n",
    "    material.showScol()"
   ]
  },
  {
   "cell_type": "markdown",
   "metadata": {},
   "source": [
    "Les résultats correspondent à ce qu'on s'attendait puisque le pouvoir d'arrêt\n",
    "est maximal lorsque l'énergie total est minimale. Ce qui est logique considérant\n",
    "que le proton dépose beaucoup d'énergie juste avant son arrêt complet.\n",
    "\n",
    "\n",
    "\n",
    "Plotting the NIST Data for comparison"
   ]
  },
  {
   "cell_type": "code",
   "execution_count": null,
   "metadata": {
    "pycharm": {
     "is_executing": true
    }
   },
   "outputs": [],
   "source": [
    "df_icrp = pandas.read_csv(f\"{os.getcwd()}//Data/NIST_DATA_ICRP.txt\", delimiter='|', header=2)\n",
    "df_icrp = df_icrp.drop(columns=df_icrp.columns[-1])\n",
    "data_icrp = df_icrp.to_numpy()\n",
    "\n",
    "fig = plt.figure()\n",
    "ax = fig.add_subplot(1, 1, 1)\n",
    "\n",
    "line, = ax.plot(data_icrp[:, 0], data_icrp[:, 1], color='blue', lw=2)\n",
    "ax.set_xscale('log')\n",
    "ax.set_title(\"Cortical bone (ICRP)\")\n",
    "ax.set_xlabel(\"Énergie total [$MeV$]\")\n",
    "ax.set_ylabel(\"Pouvoirs d'arrêt collisionnel \\n [$MeV \\; cm^2/g$]\")\n",
    "\n",
    "plt.grid()\n",
    "plt.show()\n",
    "plt.close(fig)"
   ]
  },
  {
   "cell_type": "code",
   "execution_count": null,
   "metadata": {
    "pycharm": {
     "is_executing": true
    }
   },
   "outputs": [],
   "source": [
    "df_water = pandas.read_csv(f\"{os.getcwd()}//Data/NIST_DATA_LIQUID_WATER.txt\", delimiter='|', header=2)\n",
    "df_water = df_water.drop(columns=df_water.columns[-1])\n",
    "data_water = df_water.to_numpy()\n",
    "\n",
    "fig = plt.figure()\n",
    "ax = fig.add_subplot(1, 1, 1)\n",
    "\n",
    "line, = ax.plot(data_water[:, 0], data_water[:, 1], color='red', lw=2)\n",
    "ax.set_xscale('log')\n",
    "ax.set_title(\"Eau liquide\")\n",
    "ax.set_xlabel(\"Énergie total [$MeV$]\")\n",
    "ax.set_ylabel(\"Pouvoirs d'arrêt collisionnel \\n [$MeV \\; cm^2/g$]\")\n",
    "\n",
    "plt.grid()\n",
    "plt.show()\n",
    "plt.close(fig)"
   ]
  },
  {
   "cell_type": "markdown",
   "metadata": {},
   "source": [
    "Les deux courbes produites à l'aide des données du NIST \n",
    "correspondent effectivement aux deux courbes produites avec notre modèle si\n",
    "nous observons les mêmes domaines.\n",
    "Les seules différences se situent dans la hauteur des courbes qui\n",
    "est plus élevée pour l'eau et pour l'os cortical dans le cas des\n",
    "courbes produites par les données du NIST (en ne considérant pas le \n",
    "pic maximal).\n",
    "\n"
   ]
  },
  {
   "cell_type": "markdown",
   "metadata": {},
   "source": [
    "# Portée des protons dans la matière"
   ]
  },
  {
   "cell_type": "markdown",
   "metadata": {},
   "source": [
    "## 3. Analyse dimensionnelle de R_CDSA"
   ]
  },
  {
   "cell_type": "markdown",
   "metadata": {},
   "source": [
    "Voici l'équation:\n",
    "\n",
    "$$R_{CSDA} = \\int_{0}^{T_i} \\frac{d T'}{S_{col}/\\rho}$$\n",
    "\n",
    "On peut voir sur le site du NIST que les unités de $R_{CSDA}$  sont des $[g/cm^2]$ et le pouvoir d'arrêt collisionnel \n",
    "est en $[MeV / cm^2]$. À droite de l'équation, on intègre sur des MeV des \n",
    "\n",
    "$$\\frac{[g/cm^3]}{[MeV / cm]}$$\n",
    "$$ = \\frac{[g]}{[cm]^2 * [MeV]} $$\n",
    "\n",
    "Ce qui nous donne les unités $[g/cm^2]$ à droite de l'équation, ce qui correspond bel et bien aux unités de $R_{CSDA}$."
   ]
  },
  {
   "cell_type": "markdown",
   "metadata": {},
   "source": [
    "## 4.\n",
    "Nous pouvons considérer l'énergie total d'arrêt \n",
    "puisque les énergies de proton utilisées en protonthérapie\n",
    "sont trop élevées pour que l'impact radiatif soit dérangeant mais\n",
    "trop basse pour négliger l'impact nucléaire. Ce qui implique que \n",
    "la considération du pouvoir d'arrêt total est adéquate dans ces ordres \n",
    "de grandeur d'énergie.\n"
   ]
  },
  {
   "cell_type": "markdown",
   "metadata": {},
   "source": [
    "## 5. Justifiez la nécessité d’employer une méthode numérique pour calculer la portée des protons.\n",
    "La méthode numérique devient nécessaire dans notre situation\n",
    "puisqu'il y a énormément de dépendance énergétique dans la\n",
    "définition du pouvoir d'arrêt collisionnel se retrouvant à \n",
    "l'intérieur de l'intégrale. En plus de ne pas être linéaire,\n",
    "la dépendance énergétique se rentrouve à l'intérieur de béta,\n",
    "gamma et TeMax. La méthode numérique nous évite le problème \n",
    "du calcul de l'Intégrale en nous permettant de ne faire que des\n",
    "évaluations de la fonction, ce qui nous sauve beaucoup d'efforts de \n",
    "calculs.\n"
   ]
  },
  {
   "cell_type": "markdown",
   "metadata": {},
   "source": [
    "# Détermination de R_CSDA par intégration numérique\n",
    "Pour débuter, nous allons construire une classe pour \n",
    "faciliter la manipulation de fonction mathématique \n",
    "afin de rendre l'algorythme de la résolution numérique \n",
    "de l'intégrale plus simple."
   ]
  },
  {
   "cell_type": "code",
   "execution_count": null,
   "metadata": {
    "pycharm": {
     "is_executing": true
    }
   },
   "outputs": [],
   "source": [
    "class MathFunction:\n",
    "    \n",
    "    \"\"\"\n",
    "    Class MathFunction permet la manipulation de fonction mathématique.\n",
    "    \"\"\"\n",
    "    \n",
    "    NforAdaptativeIntegration: dict = dict()\n",
    "    \n",
    "    def __init__(self, func):\n",
    "        \"\"\"\n",
    "        Constructeur de la class MathFunction.\n",
    "        :param func: Fontion mathématique. (Function or lambda expression)\n",
    "        \"\"\"\n",
    "        self.function = func\n",
    "        \n",
    "        self.integration_methods: dict = {\n",
    "            \"auto\": self.adaptative_trapezoid_integration,\n",
    "            \"trapezoid\": self.trapezoid_integration,\n",
    "            \"adapdative_trapezoid\": self.adaptative_trapezoid_integration\n",
    "        }\n",
    "    \n",
    "    def __call__(self, *args):\n",
    "        \"\"\"\n",
    "        Call de la fonction mathématique courante.\n",
    "        :param args: arguments de la fonction courante.\n",
    "        :return: return de self.function(*args)\n",
    "        \"\"\"\n",
    "        return self.function(*args)\n",
    "    \n",
    "    def integrate(self, method: str = \"auto\", **kwargs):\n",
    "        \"\"\"\n",
    "        Performe l'intégral de la fonction courante.\n",
    "        :param method: La méthode d'intégration à utiliser. (str)\n",
    "        :param kwargs: Arguments de la méthode d'intégration.\n",
    "        \n",
    "                      :bounds: Bornes de l'intégral définie ([float, float)\n",
    "                      :N: Nombre de segment utilisé pour calculer l'intégral définie.\n",
    "                      :error_target: L'erreur minimal requise. (float) default -> 1e-9\n",
    "                      :max_iteration: Itération maximale utiliser pour trouver la précision demandé. (int)\n",
    "        \n",
    "        :return: L'intégrale définie de la fonction courante.\n",
    "        \"\"\"\n",
    "        assert method in self.integration_methods\n",
    "        return self.integration_methods[method](**kwargs)\n",
    "    \n",
    "    def findBestN_trapezoid_integration(self, **kwargs) -> (int, float):\n",
    "        \"\"\"\n",
    "        Trouve le nombre de segment requis pour obtenir la précision demandé.\n",
    "        :param kwargs: \n",
    "                      :bounds: Bornes de l'intégral définie ([float, float)\n",
    "                      :error_target: L'erreur minimal requise. (float) default -> 1e-9\n",
    "                      :max_iteration: Itération maximale utiliser pour trouver la précision demandé. (int)\n",
    "        \n",
    "        :return: N (int), erreur (float)\n",
    "        \"\"\"\n",
    "        import warnings\n",
    "        assert \"bounds\" in kwargs\n",
    "        bounds = kwargs[\"bounds\"]\n",
    "        error_target = kwargs.get(\"error_target\", 1e-9)\n",
    "        max_iteration = kwargs.get(\"max_iteration\", 1_000)\n",
    "        \n",
    "        memory: dict = {\n",
    "            \"I_i\": self.trapezoid_integration(bounds=bounds, N=1),\n",
    "            \"I_i+1\": self.trapezoid_integration(bounds=bounds, N=2)\n",
    "        }\n",
    "            \n",
    "        bestN: int = 2\n",
    "        \n",
    "        error: float = np.inf\n",
    "        itr: int = 1\n",
    "        for i in range(1, max_iteration+1):\n",
    "            error = np.abs((memory[\"I_i+1\"] - memory[\"I_i\"])/3)\n",
    "            if error <= error_target:\n",
    "                itr = i\n",
    "                break\n",
    "            \n",
    "            bestN = 2**(i+1)\n",
    "            \n",
    "            memory[\"I_i\"] = memory[\"I_i+1\"]\n",
    "            memory[\"I_i+1\"] = self.trapezoid_integration(bounds=bounds, N=bestN)\n",
    "        \n",
    "        if itr >= max_iteration+1:\n",
    "            warnings.warn(\"Max iteration has been reach for findBestN_trapezoid_integration\")\n",
    "        \n",
    "        self.NforAdaptativeIntegration[\"trapezoid\"] = bestN\n",
    "        \n",
    "        return bestN, error\n",
    "    \n",
    "    def adaptative_trapezoid_integration(self, **kwargs) -> (float, float):\n",
    "        \"\"\"\n",
    "        Performe l'intégrale définie avec la méthode des trapèzes toute en trouvant\n",
    "         le meilleur nombre de segments à utiliser.\n",
    "         \n",
    "        :param kwargs: \n",
    "                      :bounds: Bornes de l'intégral définie ([float, float)\n",
    "                      :error_target: L'erreur minimal requise. (float) default -> 1e-9\n",
    "                      :max_iteration: Itération maximale utiliser pour trouver la précision demandé. (int)\n",
    "                      \n",
    "        :return: Intégral définie (float), erreur (float)\n",
    "        \"\"\"\n",
    "        import warnings\n",
    "        assert \"bounds\" in kwargs\n",
    "        bounds = kwargs[\"bounds\"]\n",
    "        error_target = kwargs.get(\"error_target\", 1e-9)\n",
    "        max_iteration = kwargs.get(\"max_iteration\", 100)\n",
    "        \n",
    "        memory: dict = {\n",
    "            \"I_i\": self.trapezoid_integration(bounds=bounds, N=1),\n",
    "            \"I_i+1\": self.trapezoid_integration(bounds=bounds, N=2)\n",
    "        }\n",
    "        bestN: int = 2\n",
    "        error: float = np.inf\n",
    "        itr: int = 1\n",
    "        for i in range(1, max_iteration+1):\n",
    "            error = np.abs((memory[\"I_i+1\"] - memory[\"I_i\"])/3)\n",
    "            if error <= error_target:\n",
    "                itr = i\n",
    "                break\n",
    "            \n",
    "            bestN = 2**(i+1)\n",
    "            \n",
    "            memory[\"I_i\"] = memory[\"I_i+1\"]\n",
    "            memory[\"I_i+1\"] = self.trapezoid_integration(bounds=bounds, N=bestN)\n",
    "        \n",
    "        if itr >= max_iteration+1:\n",
    "            warnings.warn(\"Max iteration has been reach for adaptative_trapezoid_integration\")\n",
    "        \n",
    "        self.NforAdaptativeIntegration[\"trapezoid\"] = bestN\n",
    "            \n",
    "        return memory[\"I_i+1\"], error\n",
    "    \n",
    "    def trapezoid_integration(self, **kwargs) -> float:\n",
    "        \"\"\"\n",
    "        Performe l'intégrale définie avec la méthode des trapèzes.\n",
    "        :param kwargs: \n",
    "                      :bounds: Bornes de l'intégral définie ([float, float)\n",
    "                      :N: Nombre de segment utilisé pour calculer l'intégral définie.\n",
    "        :return: \n",
    "        \"\"\"\n",
    "        assert \"bounds\" in kwargs and \"N\" in kwargs\n",
    "        bounds = kwargs[\"bounds\"]\n",
    "        N = kwargs[\"N\"]\n",
    "        \n",
    "        X = np.linspace(bounds[0], bounds[1], N+1)\n",
    "        Y = self(X)\n",
    "        Y_d = Y[1:]\n",
    "        Y_g = Y[:-1]\n",
    "        h = (bounds[1] - bounds[0])/N\n",
    "        return (h/2) * np.sum(Y_g + Y_d)"
   ]
  },
  {
   "cell_type": "code",
   "execution_count": null,
   "metadata": {
    "pycharm": {
     "is_executing": true
    }
   },
   "outputs": [],
   "source": [
    "def MaterialNewInit(self, name: str, composition: dict = None, density: float = None,\n",
    "                 mean_excitation_energy: float = None):\n",
    "    \"\"\"\n",
    "        Constructeur de la class Material.\n",
    "        \n",
    "        :param name: Nom du matériel (str)\n",
    "        :param density: Densité du matériel (float)\n",
    "        :param composition: Dictionnaire comportant la composition du matériel\n",
    "                            \n",
    "                            composition: (dict) = {\n",
    "                                Z_i: abondance relative i\n",
    "                            }\n",
    "                            \n",
    "        :param mean_excitaiton_energy: Energie moyenne d'excitation du matériel [eV] (float)\n",
    "    \"\"\"\n",
    "    \n",
    "    self._name: str = name\n",
    "    self._setCompositionAttribute(name, composition)\n",
    "    self._setDensityAttribute(name, density)\n",
    "    self._setMeanExcitationEnergyAttribute(name, mean_excitation_energy)  \n",
    "\n",
    "    # Updating the Material _compostions\n",
    "    if name not in Material._compositions:\n",
    "        Material._compositions[name] = composition\n",
    "\n",
    "    # Updating the Material _densities\n",
    "    if name not in Material._densities:\n",
    "        Material._densities[name] = density\n",
    "\n",
    "    # Updating the Material _mean_excitation_energies\n",
    "    if name not in Material._mean_excitation_energies:\n",
    "        Material._mean_excitation_energies[name] = mean_excitation_energy\n",
    "    \n",
    "    # Intégrande de la fonction R_CSDA\n",
    "    self.R_CSDA_integrand = MathFunction(lambda T: self.Density/self.getScol(T))\n",
    "\n",
    "Material.__init__ = MaterialNewInit\n",
    "\n",
    "def R_CSDA(self, bounds: [float, float] = [MIN_ENERGY_PROTON_THERAPY, 100], integrationMethod=\"auto\", **kwargs):\n",
    "    \"\"\"\n",
    "    Calcule la portée dans l’approximation CSDA d'un proton donné.\n",
    "    \n",
    "    :param bounds: Bornes de l'intégral définie ([float, float)\n",
    "    :param integrationMethod: La méthode d'intégration à utiliser. (str)\n",
    "    :param kwargs: Arguments de la méthode d'intégration.\n",
    "        \n",
    "                      :bounds: Bornes de l'intégral définie ([float, float)\n",
    "                      :N: Nombre de segment utilisé pour calculer l'intégral définie.\n",
    "                      :error_target: L'erreur minimal requise. (float) default -> 1e-9\n",
    "                      :max_iteration: Itération maximale utiliser pour trouver la précision demandé. (int)\n",
    "    :return: La portée dans l’approximation CSDA (float)\n",
    "    \"\"\"\n",
    "    return self.R_CSDA_integrand.integrate(method=integrationMethod, bounds=bounds, **kwargs)\n",
    "\n",
    "Material.R_CSDA = R_CSDA  # Adding the R_CSDA function to Material class as a new method"
   ]
  },
  {
   "cell_type": "code",
   "execution_count": null,
   "metadata": {
    "pycharm": {
     "is_executing": true
    }
   },
   "outputs": [],
   "source": [
    "icrp = Material(name=\"icrp\")\n",
    "water = Material(name=\"water\")\n",
    "\n",
    "icrp_Rcsda = icrp.R_CSDA(bounds=[MIN_ENERGY_PROTON_THERAPY, 100])\n",
    "water_Rcsda = water.R_CSDA(bounds=[MIN_ENERGY_PROTON_THERAPY, 100])\n",
    "\n",
    "print(f\"Porté des protons dans le matériel '{icrp.Name}': {icrp_Rcsda[0]:.3f} [g/cm^2], error: {icrp_Rcsda[1]:.3e} [cm]\")\n",
    "print(f\"Porté des protons dans le matériel '{water.Name}': {water_Rcsda[0]:.3f} [g/cm^2], error: {water_Rcsda[1]:.3e} [cm]\")"
   ]
  },
  {
   "cell_type": "markdown",
   "metadata": {
    "pycharm": {
     "name": "#%% md\n"
    }
   },
   "source": [
    "Données du NIST:\n",
    "\n",
    "Pour l'icrp:\n",
    "$$R_{CSDA} = 8.642  \\; [g/cm^2] $$\n",
    "\n",
    "Pour l'eau liquide:\n",
    "$$ R_{CSDA} = 7.718 \\; [g/cm^2]$$\n",
    "\n",
    "Les données obtenues sont très près des valeurs du NIST, ce qui est prometteur\n",
    "pour la validité de notre modèle. Maintenant, on peut donner $R_{CSDA}$ en unité de longeur.\n"
   ]
  },
  {
   "cell_type": "code",
   "execution_count": null,
   "metadata": {
    "pycharm": {
     "is_executing": true
    }
   },
   "outputs": [],
   "source": [
    "print(f\"Porté des protons dans le matériel '{icrp.Name}': {icrp_Rcsda[0]/icrp.Density:.3f} [cm], error: {icrp_Rcsda[1]:.3e} [cm]\")\n",
    "print(f\"Porté des protons dans le matériel '{water.Name}': {water_Rcsda[0]/water.Density:.3f} [cm], error: {water_Rcsda[1]:.3e} [cm]\")"
   ]
  },
  {
   "cell_type": "markdown",
   "metadata": {},
   "source": [
    "## 7. \n",
    "\n",
    "Connaissant la définition suivante:\n",
    "   $$ S_{col}(T) = 2\\pi r_e^2 m_e c^2 n_e \\frac{1}{\\beta^2}\\bigg[\\ln{\\bigg( \\frac{2m_e c^2\\beta^2\\gamma^2T_e^{max}}{I^2}\\bigg)} -2\\beta^2 \\bigg] $$\n",
    "    \n",
    "   $$ U = 2\\pi r_e^2 m_e c^2 n_e $$\n",
    "   \n",
    "   $$\\beta = \\sqrt{1 - \\frac{1}{\\gamma^2}} $$\n",
    "   \n",
    "   $$T_e^{max} = \\frac{a(\\gamma^2 - 1)}{b+ c\\gamma} $$\n",
    "   \n",
    "Avec $c_m = \\frac{m_e}{m_p}$, $a = 2m_e $, $b = 1 + \\left(\\frac{m_e}{m_p}\\right)^2 $ et $k = \\frac{a^2}{b^2} $.\n",
    "\n",
    "Nous cherchons la dérivée analytique de $S_{col}$ par rapport à $T$. Pour ce faire nous allons utiliser le module *sympy* qui va nous permettre d'effectuer la dérivé de façon symbolique et ainsi trouver $\\frac{d S_{col}}{d T}$. DE plus, nous allons faire la dérivé en chaîne suivante qui va facilité et clarifier nos expressions.\n",
    "   \n",
    "\n",
    "$$\\frac{d S_{col}}{d T} = \\frac{d S_{col}}{d \\gamma} \\frac{d \\gamma}{d T}$$\n",
    "\n",
    "Avec les redéfinitions nous obtenons une nouvelle forme pour $S_{col}$.\n",
    "\n",
    "$$S_{col} = U \\left(-2 + \\frac{\\log{\\left (\\frac{k \\left(\\gamma^{2} - 1\\right)^{2}}{b + c_{m} \\gamma} \\right )}}{1 - \\frac{1}{\\gamma^{2}}}\\right)$$\n",
    "\n",
    "Nous obtenons alors cette expression de $\\frac{d S_{col}}{d T}$ en utilisant *sympy.diff*.\n",
    "\n",
    "$$\\frac{d S_{col}}{d T} = \\frac{U \\left(\\frac{\\left(b + c_{m} \\gamma\\right) \\left(- \\frac{c_{m} k \\left(\\gamma^{2} - 1\\right)^{2}}{\\left(b + c_{m} \\gamma\\right)^{2}} + \\frac{4 \\gamma k \\left(\\gamma^{2} - 1\\right)}{b + c_{m} \\gamma}\\right)}{k \\left(1 - \\frac{1}{\\gamma^{2}}\\right) \\left(\\gamma^{2} - 1\\right)^{2}} - \\frac{2 \\log{\\left (\\frac{k \\left(\\gamma^{2} - 1\\right)^{2}}{b + c_{m} \\gamma} \\right )}}{\\gamma^{3} \\left(1 - \\frac{1}{\\gamma^{2}}\\right)^{2}}\\right)}{m_{p}}$$\n",
    "\n",
    "\n",
    "\n",
    "Ce calcul de dérivé sera montré ci-dessous."
   ]
  },
  {
   "cell_type": "code",
   "execution_count": null,
   "metadata": {
    "pycharm": {
     "is_executing": true,
     "name": "#%%\n"
    }
   },
   "outputs": [],
   "source": [
    "U, gamma, k, a, b, c_m, T = sy.symbols(\"U gamma k a b c_m T\")  # définition des symboles\n",
    "\n",
    "Scol_sy = U*((1-gamma**(-2))**(-1) * sy.log((k*(gamma**2-1)**2)/(b+c_m*gamma)) - 2)  # défintion de S_col(gamma)\n",
    "gamma_fct = (c_m*T/a) + 1  # définition de gamma(T)\n",
    "\n",
    "Scol_prime_sy = sy.diff(Scol_sy, gamma)*sy.diff(gamma_fct, T)  # Trouvons la différentielle de S_col(T)\n",
    "\n",
    "Scol_prime_lambdify = sy.lambdify([U, gamma, k, a, b, c_m, T], Scol_prime_sy, 'numpy')  # On convertie S_col(T) en expression lambda\n",
    "\n",
    "def Scol_prime(self, T) -> float:\n",
    "    \"\"\"\n",
    "    On construit la méthode qui sera utiliser par Material afin d'obtenir la dérivé\n",
    "    de Scol en fonction de l'énergie cinétique.\n",
    "    :param T: Énergie total du Proton [MeV]\n",
    "    :return: La valeur de la dérivée associé pour S_col(T) [$MeV$]\n",
    "    \"\"\"    \n",
    "    n_e = self.getNe()\n",
    "    I = self._mean_excitation_energy/ 1e6  # [MeV]\n",
    "    \n",
    "    r_e: float = phys_const.physical_constants[\"classical electron radius\"][0] * 100 # [cm]\n",
    "    m_e = phys_const.physical_constants[\"electron mass energy equivalent in MeV\"][0]\n",
    "    m_p = phys_const.physical_constants[\"proton mass energy equivalent in MeV\"][0]\n",
    "    c = phys_const.physical_constants[\"speed of light in vacuum\"][0]\n",
    "    \n",
    "    U = 2*np.pi*(r_e**2)*m_e*n_e\n",
    "    gamma = (T/(m_p)) + 1\n",
    "    b = 1 + (m_e/m_p)**2\n",
    "    k = ((2*m_e)/I)**2\n",
    "    c_m = (2*m_e)/m_p\n",
    "    a = 2*m_e\n",
    "    return Scol_prime_lambdify(U, gamma, k, a, b, c_m, T)\n",
    "\n",
    "Material.Scol_prime = Scol_prime\n",
    "\n",
    "\n",
    "def showScolPrimeByEnergy(self):\n",
    "    fig = plt.figure()\n",
    "    ax = fig.add_subplot(1, 1, 1)\n",
    "    \n",
    "    x = np.arange(MIN_ENERGY_PROTON_THERAPY, MAX_ENERGY_PROTON_THERAPY, 0.5, float)\n",
    "    y = material.Scol_prime(x)\n",
    "    line, = ax.plot(x, y, color='red', lw=2)\n",
    "    ax.set_xscale('log')\n",
    "    ax.set_title(self.Name)\n",
    "    ax.set_xlabel(\"Énergie total [$MeV$]\")\n",
    "    ax.set_ylabel(\"Variation du Pouvoirs d'arrêt collisionnel \\n [$MeV \\; cm^2/g$]\")\n",
    "    \n",
    "    plt.grid()\n",
    "    plt.show()\n",
    "    plt.close(fig)\n",
    "\n",
    "Material.showScolPrimeByEnergy = showScolPrimeByEnergy"
   ]
  },
  {
   "cell_type": "code",
   "execution_count": null,
   "metadata": {
    "pycharm": {
     "is_executing": true
    }
   },
   "outputs": [],
   "source": [
    "water = Material(\"water\")\n",
    "water.showScolPrimeByEnergy()\n",
    "\n",
    "icrp = Material(\"icrp\")\n",
    "icrp.showScolPrimeByEnergy()"
   ]
  },
  {
   "cell_type": "markdown",
   "metadata": {},
   "source": [
    "La courbe obtenue semble effectivement représenter le taux de variation\n",
    "de la courbe produite précédamment pour la même substance. Puisque que\n",
    "la variation  l'énergie total d'arrêt est brusque que pour les petites valeurs\n",
    "d'énergies totales.\n",
    "\n",
    "## 8."
   ]
  },
  {
   "cell_type": "markdown",
   "metadata": {},
   "source": [
    "Nous allons utiliser l'approximation d'erreur thoérique avec la méthode suivante tiré du livre *Computational Physics* page 151.\n",
    "\n",
    "$$\\epsilon = \\frac{1}{12}h^2\\left[f'(a)-f'(b)\\right]$$ où $h =\\frac{b-a}{N}$\n",
    "\n",
    "Dans notre situation, $f' = -\\frac{S'_{col}}{S^2_{col}}$"
   ]
  },
  {
   "cell_type": "code",
   "execution_count": null,
   "metadata": {
    "pycharm": {
     "is_executing": true
    }
   },
   "outputs": [],
   "source": [
    "def getTheoricalError(f_prime, a, b, N, **kwargs):\n",
    "    h = (b-a)/N\n",
    "    return (1/12)*(h**2)*np.abs(f_prime(a, **kwargs)-f_prime(b, *kwargs))"
   ]
  },
  {
   "cell_type": "code",
   "execution_count": null,
   "metadata": {
    "pycharm": {
     "is_executing": true
    }
   },
   "outputs": [],
   "source": [
    "a, b = MIN_ENERGY_PROTON_THERAPY, 100\n",
    "\n",
    "f_prime = lambda material: lambda T: -material.Scol_prime(T)/(material.getScol(T)**2)\n",
    "\n",
    "water = Material(\"water\")\n",
    "icrp = Material(\"icrp\")\n",
    "\n",
    "trapN, trapError = water.R_CSDA_integrand.findBestN_trapezoid_integration(bounds=[a, b], error_target=1e-9)\n",
    "\n",
    "print(f\"Pour l'eau:\")\n",
    "print(f\"N: {trapN}, Error numérique: {trapError} [cm]\")\n",
    "print(f\"Erreur théorique: {getTheoricalError(f_prime(water), a, b, trapN)} [cm]\")\n",
    "print()\n",
    "print(f\"Pour l'os icrp:\")\n",
    "print(f\"N: {trapN}, Error numérique: {trapError} [cm]\")\n",
    "print(f\"Erreur théorique: {getTheoricalError(f_prime(icrp), a, b, trapN)} [cm]\")"
   ]
  },
  {
   "cell_type": "markdown",
   "metadata": {},
   "source": [
    "Dans ces derniers résultats, on peut voir que les erreurs théoriques et numériques sont dans le même ordre de grandeur. Ceci nous permet de croire que notre méthode d'intégration tend à être optimal pour avoir une certaine précision avec un certain N."
   ]
  },
  {
   "cell_type": "markdown",
   "metadata": {},
   "source": [
    "## 9."
   ]
  },
  {
   "cell_type": "markdown",
   "metadata": {},
   "source": [
    "On va faire l'implémentation de Newman de la quadrature gaussienne."
   ]
  },
  {
   "cell_type": "code",
   "execution_count": null,
   "metadata": {
    "pycharm": {
     "is_executing": true
    }
   },
   "outputs": [],
   "source": [
    "def gaussxq(self, N) -> (float, float):\n",
    "    # Initial approximation to roots of the Legendre polynomial\n",
    "    a = np.linspace(3,4*N-1,N)/(4*N+2)\n",
    "    x = np.cos(np.pi*a+1/(8*(N**2)*np.tan(a)))\n",
    "\n",
    "    # Find roots using Newton's method\n",
    "    epsilon = 1e-15\n",
    "    delta = 1.0\n",
    "    while delta > epsilon:\n",
    "        p0 = np.ones(N,float)\n",
    "        p1 = np.copy(x)\n",
    "        for k in range(1,N):\n",
    "            p0, p1 = p1, ((2*k+1)*x*p1-k*p0)/(k+1)\n",
    "        \n",
    "        dp = (N+1)*(p0-x*p1)/(1-x**2)\n",
    "        dx = p1/dp\n",
    "        x -= dx\n",
    "        delta = max(abs(dx))\n",
    "\n",
    "    # Calculate the weights\n",
    "    w = 2*((N+1)**2)/((N**2)*(1-x**2)*(dp**2))\n",
    "\n",
    "    return x, w\n",
    "\n",
    "MathFunction.gaussxq = gaussxq\n",
    "\n",
    "MathFunction.gaussxqValuesForN = dict()\n",
    "\n",
    "def gaussian_quadrature_integration(self, **kwargs) -> float:\n",
    "    # P.170 Computational physics\n",
    "    assert \"bounds\" in kwargs and \"N\" in kwargs\n",
    "    bounds = kwargs[\"bounds\"]\n",
    "    N = kwargs[\"N\"]\n",
    "    [a, b] = bounds\n",
    "    \n",
    "    # Calculate the sample points ans weights, then map them\n",
    "    # to the required integration domain\n",
    "    if N in MathFunction.gaussxqValuesForN:\n",
    "        x, w = MathFunction.gaussxqValuesForN[N]\n",
    "    else:\n",
    "        x, w = self.gaussxq(N)\n",
    "        MathFunction.gaussxqValuesForN[N] = (x, w)\n",
    "    \n",
    "    xp = 0.5*(b-a)*x + 0.5*(b+a)\n",
    "    wp = 0.5*(b-a)*w\n",
    "    \n",
    "    # perform the integration\n",
    "    s = np.sum(wp*self.function(xp))\n",
    "    return s\n",
    "\n",
    "MathFunction.gaussian_quadrature_integration = gaussian_quadrature_integration\n",
    "\n",
    "def gaussian_quad_find_N(self, **kwargs) -> (int, float):\n",
    "    import warnings\n",
    "    assert \"bounds\" in kwargs\n",
    "    bounds = kwargs[\"bounds\"]\n",
    "    error_target = kwargs.get(\"error_target\", 1e-9)\n",
    "    max_iteration = kwargs.get(\"max_iteration\", 1_000)\n",
    "\n",
    "    memory: dict = {\n",
    "        \"I_i\": self.gaussian_quadrature_integration(bounds=bounds, N=1),\n",
    "        \"I_i+1\": self.gaussian_quadrature_integration(bounds=bounds, N=2)\n",
    "    }\n",
    "\n",
    "    bestN: int = 2\n",
    "\n",
    "    error: float = np.inf\n",
    "    itr: int = 1\n",
    "    for i in range(1, max_iteration+1):\n",
    "        error = np.abs(memory[\"I_i+1\"] - memory[\"I_i\"])\n",
    "        if error <= error_target:\n",
    "            itr = i\n",
    "            break\n",
    "\n",
    "        bestN = 2**(i+1)\n",
    "\n",
    "        memory[\"I_i\"] = memory[\"I_i+1\"]\n",
    "        memory[\"I_i+1\"] = self.gaussian_quadrature_integration(bounds=bounds, N=bestN)\n",
    "    \n",
    "    if itr >= max_iteration+1:\n",
    "        warnings.warn(\"Max iteration has been reach for gaussian_quad_find_N\")\n",
    "\n",
    "    return bestN, error\n",
    "\n",
    "MathFunction.gaussian_quad_find_N = gaussian_quad_find_N\n",
    "\n",
    "def adaptative_gaussian_quadrature(self, **kwargs) -> (float, float):\n",
    "    assert \"bounds\" in kwargs\n",
    "    N, error = self.gaussian_quad_find_N(**kwargs)\n",
    "    kwargs[\"N\"] = N\n",
    "    return self.gaussian_quadrature_integration(**kwargs), error\n",
    "\n",
    "MathFunction.adaptative_gaussian_quadrature = adaptative_gaussian_quadrature\n",
    "\n",
    "def newMathFunctionInit(self, func):\n",
    "    self.function = func\n",
    "\n",
    "    self.integration_methods: dict = {\n",
    "        \"auto\": self.adaptative_gaussian_quadrature,\n",
    "        \"trapezoid\": self.trapezoid_integration,\n",
    "        \"adapdative_trapezoid\": self.adaptative_trapezoid_integration,\n",
    "        \"adaptative_gaussian_quadrature\": self.adaptative_gaussian_quadrature,\n",
    "        \"gaussian_quadrature_integration\": self.gaussian_quadrature_integration\n",
    "    }\n",
    "\n",
    "MathFunction.__init__ = newMathFunctionInit"
   ]
  },
  {
   "cell_type": "markdown",
   "metadata": {},
   "source": [
    "Maintenant, nous allons afficher l'histograme de la portée des protons dans l'eau pour 10 000 protons ayant une énergies aléatoirement distribué de façon normale."
   ]
  },
  {
   "cell_type": "code",
   "execution_count": null,
   "metadata": {
    "pycharm": {
     "is_executing": true
    }
   },
   "outputs": [],
   "source": [
    "water = Material(name=\"water\")\n",
    "proton_energies = np.random.normal(240, MIN_ENERGY_PROTON_THERAPY, 10_000)\n",
    "\n",
    "gaussN, gaussError = water.R_CSDA_integrand.gaussian_quad_find_N(bounds=[MIN_ENERGY_PROTON_THERAPY, 240], error_target=1e-9)\n",
    "\n",
    "proton_ranges = [water.R_CSDA(bounds=[MIN_ENERGY_PROTON_THERAPY, e], integrationMethod=\"gaussian_quadrature_integration\", N=gaussN) for e in proton_energies]"
   ]
  },
  {
   "cell_type": "code",
   "execution_count": null,
   "metadata": {
    "pycharm": {
     "is_executing": true
    }
   },
   "outputs": [],
   "source": [
    "plt.hist(proton_ranges, bins=100)\n",
    "plt.title(f\"Histograme de la portée des protons dans l’{water.Name} \\n pour {len(proton_ranges)} protons. \"\n",
    "          f\"\\n erreur: {gaussError:.2e} [cm]\")\n",
    "plt.show()"
   ]
  },
  {
   "cell_type": "markdown",
   "metadata": {},
   "source": [
    "Ici, on test le temps d'exécution de notre méthode *R_CSDA* à l'aide du module timeit. Nous allons lancer 10 000 exécutions pour simuler 10 000 protons, compter le temps requis et trouver le temps d'exécution moyen pour un proton."
   ]
  },
  {
   "cell_type": "code",
   "execution_count": null,
   "metadata": {
    "pycharm": {
     "is_executing": true
    }
   },
   "outputs": [],
   "source": [
    "def integrationMethodTimeTester(integrationMethod, material, n_protons: int = 10_000, **kwargs):\n",
    "    shootProtonInMaterial = lambda: material.R_CSDA(bounds=[MIN_ENERGY_PROTON_THERAPY, np.random.normal(240, 3, 1)], integrationMethod=integrationMethod, N=kwargs.get('N'))\n",
    "\n",
    "    total_execution_time = timeit.timeit(shootProtonInMaterial, number=n_protons)\n",
    "    mean_execution_time = total_execution_time/n_protons\n",
    "\n",
    "    print(f\"Moyenne d'exécution pour un proton avec la methode {integrationMethod}: {mean_execution_time:.3e} s\")"
   ]
  },
  {
   "cell_type": "code",
   "execution_count": null,
   "metadata": {
    "pycharm": {
     "is_executing": true
    }
   },
   "outputs": [],
   "source": [
    "integrationMethodTimeTester(\"gaussian_quadrature_integration\", Material(name=\"water\"), N=gaussN)"
   ]
  },
  {
   "cell_type": "markdown",
   "metadata": {},
   "source": [
    "# 10. On test *trapezoid*"
   ]
  },
  {
   "cell_type": "code",
   "execution_count": null,
   "metadata": {
    "pycharm": {
     "is_executing": true
    }
   },
   "outputs": [],
   "source": [
    "trapN, trapError = water.R_CSDA_integrand.findBestN_trapezoid_integration(bounds=[MIN_ENERGY_PROTON_THERAPY, 240], error_target=1e-9)\n",
    "proton_ranges = [water.R_CSDA(bounds=[MIN_ENERGY_PROTON_THERAPY, e], integrationMethod=\"trapezoid\", N=trapN) for e in proton_energies]\n",
    "\n",
    "plt.hist(proton_ranges, bins=100)\n",
    "plt.title(f\"Histograme de la portée des protons dans l’{water.Name} \\n pour {len(proton_ranges)} protons. \"\n",
    "          f\"\\n erreur: {trapError:.2e} [cm]\")\n",
    "plt.show()\n",
    "\n",
    "integrationMethodTimeTester(\"trapezoid\", Material(name=\"water\"), N=trapN)"
   ]
  },
  {
   "cell_type": "markdown",
   "metadata": {},
   "source": [
    "# 11. On test *scipy.integrate.quad*"
   ]
  },
  {
   "cell_type": "code",
   "execution_count": null,
   "metadata": {
    "pycharm": {
     "is_executing": true
    }
   },
   "outputs": [],
   "source": [
    "import scipy.integrate as scipyIntegration\n",
    "\n",
    "integrand = lambda T: water.Density/water.getScol(T)\n",
    "scipy_R_CSDA = lambda e: scipyIntegration.quad(integrand, MIN_ENERGY_PROTON_THERAPY, e)\n",
    "\n",
    "proton_energies = np.random.normal(240, 3, 10_000)\n",
    "proton_ranges = [scipy_R_CSDA(e)[0] for e in proton_energies]\n",
    "\n",
    "plt.hist(proton_ranges, bins=100)\n",
    "plt.title(f\"Histograme de la portée des protons dans l’{water.Name} \\n pour {len(proton_ranges)} protons\")\n",
    "plt.show()\n",
    "\n",
    "shootProtonInMaterial = lambda: scipyIntegration.quad(integrand, MIN_ENERGY_PROTON_THERAPY, np.random.normal(240, 3, 1))\n",
    "total_execution_time = timeit.timeit(shootProtonInMaterial, number=len(proton_ranges))\n",
    "mean_execution_time = total_execution_time/len(proton_ranges)\n",
    "\n",
    "print(f\"Moyenne d'exécution pour un proton avec la methode scipy.integrate.quad: {mean_execution_time:.3e} s\")"
   ]
  },
  {
   "cell_type": "markdown",
   "metadata": {},
   "source": [
    "La méthode *scipy.integrate.quad* fait essentiellement le même processus que notre méthode *MathFunction.adaptative_gaussian_quadrature*. En effet, *quad* exécute une quadrature gausienne adaptative pour calculer l'intégrale définie numérique de la fonction passé en argument. De ce fait, *quad* recalcule ses poids (notés *w* dans *MathFunction.adaptative_gaussian_quadrature*) à chaque fois qu'elle recalcule l'intégral et cela même si ces poids ont déjà été calculés précédement. Ce dernier point va augmenter le temps de calcul lorsque l'on désir fait un grand nombre d'intégrals comme dans la situation présente qui compte 10 000 protons.\n",
    "\n",
    "Toutefois, la fonction *quad* de scipy reste beaucoup plus rapide pour une seule intégral que nos méthodes *MathFunction.adaptative_gaussian_quadrature* et *MathFunction.adaptative_trapezoid_integration* puisque *scipy* utilise un package nommé *mkl* qui est utilisé afin d'optimiser les calculs sur processeur intel, ce que nous possèdons actuelement. En effet, le processeur utilisé pour les présents calculs est un \"Intel(R) Core(TM) i7-8550U CPU @ 1.8 GHz 1.99 GHz\" avec 16 GB de RAM. La library *mkl* est donc très utile pour ce type de processeur.\n",
    "\n",
    "On peut remarquer avec les précédents résultats que la méthod *MathFunction.gaussian_quadrature_integration* est un ordre de grandeur plus rapide que *MathFunction.trapezoid* et *scipy.integrate.quad* qui sont toutes deux dans le même ordre de grandeur."
   ]
  },
  {
   "cell_type": "markdown",
   "metadata": {
    "pycharm": {
     "is_executing": false,
     "name": "#%% md\n"
    }
   },
   "source": [
    "# 13.\n",
    "\n",
    "On construit la nouvelle méthode pour calculer l'énergie déposé des protons dans un milieu."
   ]
  },
  {
   "cell_type": "code",
   "execution_count": null,
   "metadata": {
    "pycharm": {
     "is_executing": true,
     "name": "#%%\n"
    }
   },
   "outputs": [],
   "source": [
    "def MaterialNewInit(self, name: str, composition: dict = None, density: float = None,\n",
    "                 mean_excitation_energy: float = None):\n",
    "    \n",
    "    self._name: str = name\n",
    "    self._setCompositionAttribute(name, composition)\n",
    "    self._setDensityAttribute(name, density)\n",
    "    self._setMeanExcitationEnergyAttribute(name, mean_excitation_energy)\n",
    "\n",
    "    # Updating the Material _compostions\n",
    "    if name not in Material._compositions:\n",
    "        Material._compositions[name] = composition\n",
    "\n",
    "    # Updating the Material _densities\n",
    "    if name not in Material._densities:\n",
    "        Material._densities[name] = density\n",
    "\n",
    "    # Updating the Material _mean_excitation_energies\n",
    "    if name not in Material._mean_excitation_energies:\n",
    "        Material._mean_excitation_energies[name] = mean_excitation_energy\n",
    "    \n",
    "    self.R_CSDA_integrand = MathFunction(lambda T: self.Density/self.getScol(T))\n",
    "    self.displacementStep_integrand = MathFunction(lambda T: 1/self.getScol(T))\n",
    "    \n",
    "Material.__init__ = MaterialNewInit\n",
    "\n",
    "def getDisplacementStep(self, bounds: [float, float] = [0, 100], integrationMethod=\"auto\", **kwargs):\n",
    "    return self.displacementStep_integrand.integrate(method=integrationMethod, bounds=bounds, **kwargs)\n",
    "\n",
    "Material.getDisplacementStep = getDisplacementStep\n",
    "\n",
    "def depositEnergyByDepth(self, depth, **kwargs):\n",
    "    return depth\n",
    "\n",
    "Material.depositEnergyByDepth = depositEnergyByDepth\n",
    "\n",
    "def showDepositEnergyByDepth(self, proton_initial_energies: list, **kwargs) -> None:\n",
    "    if isinstance(proton_initial_energies, float):\n",
    "        proton_initial_energies = [proton_initial_energies]\n",
    "\n",
    "    fig = plt.figure()\n",
    "    ax = fig.add_subplot(1, 1, 1)\n",
    "    \n",
    "    step: float = -0.1  # [MeV]\n",
    "        \n",
    "    for initial_energy in proton_initial_energies:\n",
    "        Ti: np.ndarray = np.arange(initial_energy, MIN_ENERGY_PROTON_THERAPY+abs(step), step)\n",
    "        Tf: np.ndarray = np.arange(initial_energy-abs(step), MIN_ENERGY_PROTON_THERAPY, step)\n",
    "\n",
    "        gaussN, gaussError = water.R_CSDA_integrand.gaussian_quad_find_N(bounds=[MIN_ENERGY_PROTON_THERAPY, initial_energy], error_target=1e-9)\n",
    "        S = [self.getDisplacementStep(bounds=[Tf[i], Ti[i]],\n",
    "                                      integrationMethod=\"gaussian_quadrature_integration\", N=gaussN,\n",
    "                                      **kwargs)\n",
    "             for i in range(len(Ti))]\n",
    "        X: np.ndarray = np.cumsum(S)\n",
    "\n",
    "        line, = ax.plot(X, self.getScol(Tf)-self.getScol(Ti), lw=2, label=f\"Proton de {initial_energy} MeV\")\n",
    "    \n",
    "    ax.set_title(f\"Protons dans le matériel: {self.Name}\")\n",
    "    ax.set_xlabel(f\"Profondeur de {self.Name} [cm]\")\n",
    "    ax.set_ylabel(f\"Dépôt d’énergie [MeV]\")\n",
    "    \n",
    "    plt.grid()\n",
    "    plt.legend()\n",
    "    plt.show()\n",
    "    plt.close(fig)\n",
    "\n",
    "Material.showDepositEnergyByDepth = showDepositEnergyByDepth"
   ]
  },
  {
   "cell_type": "code",
   "execution_count": null,
   "metadata": {
    "pycharm": {
     "is_executing": true,
     "name": "#%%\n"
    }
   },
   "outputs": [],
   "source": [
    "proton_initial_energies: np.ndarray = np.array([75, 100, 150])  # MeV\n",
    "\n",
    "icrp = Material(name=\"icrp\")\n",
    "[icrp.showDepositEnergyByDepth(e) for e in proton_initial_energies]\n",
    "\n",
    "water = Material(name=\"water\")\n",
    "water.showDepositEnergyByDepth(proton_initial_energies)"
   ]
  },
  {
   "cell_type": "markdown",
   "metadata": {},
   "source": [
    "On peut voir ici que la majorité de l'énergie est déposée à la position\n",
    "d'arrêt. Cependant, l'énergie déposée dépasse dans certain cas l'énergie total\n",
    "du proton. Ce phénomème peut s'expliquer par l'effet de bord de notre approximation\n",
    "qui engendre une divergence après le dépot de toute l'énergie du proton. Sans \n",
    "compter la divergence et la trop petite échelle \n",
    "\n",
    "\n",
    "\n",
    "# 14.\n",
    "Il devient beaucoup plus avantageux d'utiliser \n",
    "la thérapie au proton lorsque la tumeur cible est localisée\n",
    "dans un millieu critique du corps tel que le cerveau. Puisque \n",
    "le proton dépose la majorité de son énergie dans une très petite zone \n",
    "autour de la position d'arrêt complet, celui-ci dépose donc moins \n",
    "d'énergie dans les tissus environnants qu'un photon. Ce qui \n",
    "implique donc que le dépot de dose est plus localisé que dans le cas \n",
    "d'une thérapie classic aux photons, ce qui par le même fait \n",
    "réduit les dommages engendrés aux tissus envirronnants. Cet avantage\n",
    "devient critique dans le cas d'une tumeur au cerveau puisque l'objectif \n",
    "d'engendrer un minimum de dommages cerébraux.\n",
    "\n"
   ]
  }
 ],
 "metadata": {
  "kernelspec": {
   "display_name": "Python 3",
   "language": "python",
   "name": "python3"
  },
  "language_info": {
   "codemirror_mode": {
    "name": "ipython",
    "version": 3
   },
   "file_extension": ".py",
   "mimetype": "text/x-python",
   "name": "python",
   "nbconvert_exporter": "python",
   "pygments_lexer": "ipython3",
   "version": "3.7.3"
  },
  "pycharm": {
   "stem_cell": {
    "cell_type": "raw",
    "source": [],
    "metadata": {
     "collapsed": false
    }
   }
  }
 },
 "nbformat": 4,
 "nbformat_minor": 2
}