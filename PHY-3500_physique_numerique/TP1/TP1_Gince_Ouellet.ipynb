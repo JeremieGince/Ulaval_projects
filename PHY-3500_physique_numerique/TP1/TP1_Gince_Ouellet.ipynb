{
 "cells": [
  {
   "cell_type": "markdown",
   "metadata": {},
   "source": [
    "# TP 1: Parcours des protons dans la matière\n",
    "\n",
    "## Fait par: \n",
    "    Jérémie Gince (111 224 046)\n",
    "    Samuel Ouellet (111 ... ...)"
   ]
  },
  {
   "cell_type": "code",
   "execution_count": 1,
   "metadata": {
    "pycharm": {
     "is_executing": false
    }
   },
   "outputs": [],
   "source": [
    "# On fait quelques import importants:\n",
    "%matplotlib inline\n",
    "import matplotlib.pyplot as plt\n",
    "import numpy as np\n",
    "import os\n",
    "import pandas\n",
    "import scipy as sp\n",
    "from scipy import constants as phys_const\n",
    "import timeit"
   ]
  },
  {
   "cell_type": "markdown",
   "metadata": {},
   "source": [
    "## Question 1"
   ]
  },
  {
   "cell_type": "markdown",
   "metadata": {},
   "source": [
    "Selon l'article au lien suivant:\n",
    "\n",
    "$$\\href{https://www.ncbi.nlm.nih.gov/pmc/articles/PMC4407514/}{https://www.ncbi.nlm.nih.gov/pmc/articles/PMC4407514/}$$\n",
    "\n",
    "Nous avons que l'énergie ($T$) va de 1 Mev jusqu'à 250 Mev."
   ]
  },
  {
   "cell_type": "markdown",
   "metadata": {},
   "source": [
    "Avec la relativité restreinte, nous avons que\n",
    "\n",
    "$$T = (\\gamma - 1) m_0 c^2$$\n",
    "\n",
    "alors,\n",
    "\n",
    "$$\\implies \\gamma = \\frac{T}{m_0 c^2} + 1 $$"
   ]
  },
  {
   "cell_type": "markdown",
   "metadata": {},
   "source": [
    "De plus, selon la relativité restreinte encore:\n",
    "\n",
    "$$\\gamma = \\frac{1}{\\sqrt{1 - \\beta^2}}$$\n",
    "\n",
    "$$\\implies \\beta = \\sqrt{1 - \\frac{1}{\\gamma^2}} $$"
   ]
  },
  {
   "cell_type": "markdown",
   "metadata": {},
   "source": [
    "## Question 2"
   ]
  },
  {
   "cell_type": "markdown",
   "metadata": {},
   "source": [
    "Pour commencer, puisque nous cherchons une densité d'électron, celle-ci correspond donc au nombre d'électron par gramme multiplié par la densité volumique.\n",
    "\n",
    "$$n_e = N_e\\rho $$\n",
    "\n",
    "Puisqu'il y a plusieurs atomes, avec des proportions différentes, nous devons donc considérer la masse molaire et \n",
    "le nombre d'avogadro ainsi que les proportions afin de déterminer le nombre d'électron par gramme\n",
    "\n",
    "$$N_e = \\sum_i\\frac{ Z_i \\xi_i N_0}{M_i}$$\n",
    "\n",
    "où $Z_i$ est la nombre atomique de l'élément i,\n",
    "   $\\xi_i$ est l'abondance relative de l'élément i,\n",
    "   $N_0$ est le nombre d'avogadro,\n",
    "   $M_i$ est la masse molaire de l'élément i.\n",
    "\n"
   ]
  },
  {
   "cell_type": "markdown",
   "metadata": {},
   "source": [
    "Ici, on déclare une classe *Material*."
   ]
  },
  {
   "cell_type": "code",
   "execution_count": 2,
   "metadata": {
    "pycharm": {
     "is_executing": false
    }
   },
   "outputs": [],
   "source": [
    "class Material:\n",
    "    \"\"\"\n",
    "    :class Material: Utilisé pour simuler un environnement de propagation pour des protons.\n",
    "    \"\"\"\n",
    "    \n",
    "    _Z_to_molar_mass: dict = {\n",
    "    #   Z: molar mass [g/mol]\n",
    "        1: 1.008,\n",
    "        6: 12.011,\n",
    "        7: 14.007,\n",
    "        8: 15.999,\n",
    "        12: 24.305,\n",
    "        15: 30.974,\n",
    "        16: 32.06,\n",
    "        20: 40.078,\n",
    "        30: 65.38\n",
    "    }\n",
    "    \n",
    "    # composition icrp, [icrp : = cortical bone]\n",
    "    # source du NIST: https://physics.nist.gov/cgi-bin/Star/compos.pl?refer=ap&matno=120}{https://physics.nist.gov/cgi-bin/Star/compos.pl?refer=ap&matno=120\n",
    "    _density_icrp: float = 1.85  # [g/cm^3]\n",
    "    _composition_icrp: dict = {\n",
    "    #   Z: abondance relative\n",
    "        1: 0.047234,\n",
    "        6: 0.144330,\n",
    "        7: 0.041990,\n",
    "        8: 0.446096,\n",
    "        12: 0.002200,\n",
    "        15: 0.104970,\n",
    "        16: 0.003150,\n",
    "        20: 0.209930,\n",
    "        30: 0.000100\n",
    "    }\n",
    "    \n",
    "    _density_water: float = 1.00  # [g/cm^3]\n",
    "    _composition_water: dict = {\n",
    "    #   Z: abondance relative\n",
    "        1: 0.111894,\n",
    "        8: 0.888106\n",
    "    }\n",
    "    \n",
    "    _compositions: dict = {\n",
    "        \"icrp\": _composition_icrp,\n",
    "        \"water\": _composition_water,\n",
    "        \"H2O\": _composition_water\n",
    "    }\n",
    "    \n",
    "    _densities: dict = {\n",
    "        \"icrp\": _density_icrp,\n",
    "        \"water\": _density_water,\n",
    "        \"H2O\": _density_water\n",
    "    }\n",
    "        \n",
    "    _mean_excitation_energies: dict = {\n",
    "        #Materiel: I [eV]\n",
    "        \"icrp\": 106.4,\n",
    "        \"water\": 75.0,\n",
    "        \"H2O\": 75.0\n",
    "    }\n",
    "    \n",
    "    def __init__(self, name: str, composition: dict = None, density: float = None,\n",
    "                 mean_excitaiton_energy: float = None):\n",
    "        \"\"\"\n",
    "        Constructeur de la class Material.\n",
    "        \n",
    "        :param name: Nom du matériel (str)\n",
    "        :param composition: Dictionnaire comportant la composition du matériel\n",
    "                            \n",
    "                            composition: (dict) = {\n",
    "                                Z_i: abondance relative i\n",
    "                            }\n",
    "                            \n",
    "        :param density: Densité du matériel (float)\n",
    "        :param mean_excitaiton_energy: Energie moyenne d'excitation du matériel [eV] (float)\n",
    "        \"\"\"\n",
    "        \n",
    "        self._name: str = name\n",
    "        \n",
    "        # setting the _composition attribute\n",
    "        if composition is not None:\n",
    "            self._composition = composition\n",
    "        elif name in Material._compositions:\n",
    "            self._composition = Material._compositions[name]\n",
    "        else:\n",
    "            assert \"This material is unknown, please set the composition dict parameter.\"\n",
    "        \n",
    "        # setting the _density attribute\n",
    "        if density is not None:\n",
    "            self._density = density\n",
    "        elif name in Material._densities:\n",
    "            self._density = Material._densities[name]\n",
    "        else:\n",
    "            assert \"This material is unknown, please set the density parameter.\"\n",
    "        \n",
    "        # setting the _mean_excitation_energy attribute\n",
    "        if mean_excitaiton_energy is not None:\n",
    "            self._mean_excitation_energy = mean_excitaiton_energy\n",
    "        elif name in Material._densities:\n",
    "            self._mean_excitation_energy = Material._mean_excitation_energies[name]\n",
    "        else:\n",
    "            assert \"This material is unknown, please set the mean_excitation_energy parameter.\"\n",
    "        \n",
    "        # Updating the Material _compostions\n",
    "        if name not in Material._compositions:\n",
    "            Material._compositions[name] = composition\n",
    "        \n",
    "        # Updating the Material _densities\n",
    "        if name not in Material._densities:\n",
    "            Material._densities[name] = density\n",
    "        \n",
    "        # Updating the Material _mean_excitation_energies\n",
    "        if name not in Material._mean_excitation_energies:\n",
    "            Material._mean_excitation_energies[name] = mean_excitaiton_energy\n",
    "    \n",
    "    @property\n",
    "    def Density(self) -> float:\n",
    "        \"\"\"\n",
    "        Density property.\n",
    "        :return: La densité du matériel courant (float)\n",
    "        \"\"\"\n",
    "        return self._density\n",
    "    \n",
    "    @property\n",
    "    def Name(self) -> str:\n",
    "        \"\"\"\n",
    "        Name property.\n",
    "        :return: Nom du matériel courant (str)\n",
    "        \"\"\"\n",
    "        return self._name\n",
    "    \n",
    "    def getName(self) -> str:\n",
    "        \"\"\"\n",
    "        Getter de l'attribut _name du l'objet courant.\n",
    "        :return: Le nom du matériel courant (str)\n",
    "        \"\"\"\n",
    "        return self._name\n",
    "    \n",
    "    def setName(self, new_name: str):\n",
    "        \"\"\"\n",
    "        Setter de l'attribut _name de l'objet courant.\n",
    "        Change le nom de l'objet ainsi que sa composition, sa densité et son énergie moyenne d'excitation.\n",
    "        new_name doit être connue. i.e new_name doit être dans Material._compositions\n",
    "        :param new_name: Nouveau nom du matériel (str)\n",
    "        :return: \n",
    "        \"\"\"\n",
    "        assert new_name in self._compositions\n",
    "        self._name = new_name\n",
    "        self._composition = self._compositions[new_name]\n",
    "        self._density = self._densities[new_name]\n",
    "        self._mean_excitation_energy = self._mean_excitation_energies[new_name]\n",
    "    \n",
    "    def getNe(self) -> float:\n",
    "        \"\"\"\n",
    "        Getter du nombre d'électron par gramme du matériel courant. [1/kg]\n",
    "        :return: Nombre d'électron par gramme [1/kg] (float)\n",
    "        \"\"\"\n",
    "        N_0: float = phys_const.Avogadro\n",
    "        return N_0*np.sum([(Z_i*xi_i)/Material._Z_to_molar_mass[Z_i] \n",
    "                           for Z_i, xi_i in self._composition.items()])\n",
    "\n",
    "    def getElectronicDensity(self) -> float:\n",
    "        \"\"\"\n",
    "        Getter de la densité électronique du matériel courant.\n",
    "        :return: Densité électronique (float)\n",
    "        \"\"\"\n",
    "        return self.getNe()*self._density\n",
    "    \n",
    "    @staticmethod\n",
    "    def getGamma(T):\n",
    "        \"\"\"\n",
    "        Getter du facteur Gamma de Lorentz.\n",
    "        :param T: Énergie cinétique du proton. (float or np.ndarray)\n",
    "        :return: Facteur gamma (type(T))\n",
    "        \"\"\"\n",
    "        m_p = phys_const.physical_constants[\"proton mass energy equivalent in MeV\"][0]\n",
    "        return (T/(m_p)) + 1\n",
    "    \n",
    "    @staticmethod\n",
    "    def getBeta(T):\n",
    "        \"\"\"\n",
    "        Getter du facteur beta de Lorentz.\n",
    "        :param T: Énergie cinétique du proton. (float or np.ndarray)\n",
    "        :return: Facteur beta (type(T))\n",
    "        \"\"\"\n",
    "        return np.sqrt(1 - Material.getGamma(T)**(-2))\n",
    "    \n",
    "    @staticmethod\n",
    "    def getTeMax(T):\n",
    "        \"\"\"\n",
    "        Getter de l’énergie maximale transférable à un électron par le proton.\n",
    "        :param T: Énergie cinétique du proton. (float or np.ndarray)\n",
    "        :return: Énergie maximale transférable (type(T))\n",
    "        \"\"\"\n",
    "        m_e = phys_const.physical_constants[\"electron mass energy equivalent in MeV\"][0]\n",
    "        m_p = phys_const.physical_constants[\"proton mass energy equivalent in MeV\"][0]\n",
    "        rap_me_mp = m_e/m_p\n",
    "        num = 2*m_e*(Material.getGamma(T)**2 - 1)\n",
    "        denum = 1 + 2*Material.getGamma(T)*rap_me_mp + rap_me_mp**2\n",
    "        return num/denum\n",
    "    \n",
    "    def getScol(self, T):\n",
    "        \"\"\"\n",
    "        Getter du pouvoir d'arrêt colissionnel du matériel.\n",
    "        :param T: Énergy cinétique du proton (float or np.ndarray)\n",
    "        :return: Le pouvoir d'arrêt colissionnel du matériel. (type(T))\n",
    "        \"\"\"\n",
    "        r_e: float = phys_const.physical_constants[\"classical electron radius\"][0] * 100 # [cm]\n",
    "        m_e = phys_const.physical_constants[\"electron mass energy equivalent in MeV\"][0]\n",
    "        gamma = self.getGamma(T)\n",
    "        beta = self.getBeta(T)\n",
    "        n_e = self.getElectronicDensity()\n",
    "        TeMax = self.getTeMax(T)\n",
    "        I = self._mean_excitation_energy/ 1e6  # [MeV]\n",
    "        \n",
    "        coeff0 = 2*np.pi*(r_e**2)*m_e*n_e*(beta**(-2))\n",
    "        ln_arg = (2*m_e*(beta**2)*(gamma**2)*TeMax)/(I**2)\n",
    "        return coeff0*(np.log(ln_arg) - 2*(beta**2))\n",
    "    \n",
    "    def showScol(self, bounds: (float, float) = (1e-1, 1e3)):\n",
    "        \"\"\"\n",
    "        Affiche le pouvoir d'arrêt colissionnel du matériel en fonction de l'énergie cinétique des protons.\n",
    "        \"\"\"\n",
    "        fig = plt.figure()\n",
    "        ax = fig.add_subplot(2, 1, 1)\n",
    "\n",
    "        T = np.linspace(bounds[0], bounds[1], 1_000_000)\n",
    "\n",
    "        line, = ax.plot(T, self.getScol(T), color='blue', lw=2)\n",
    "        ax.set_xscale('log')\n",
    "        ax.set_title(self.getName())\n",
    "        ax.set_xlabel(\"Énergie total [$MeV$]\")\n",
    "        ax.set_ylabel(\"Pouvoirs d'arrêt collisionnel \\n [$MeV \\; cm^2/g$]\")\n",
    "\n",
    "        plt.grid()\n",
    "        plt.show()"
   ]
  },
  {
   "cell_type": "code",
   "execution_count": 3,
   "metadata": {
    "pycharm": {
     "is_executing": false
    }
   },
   "outputs": [],
   "source": [
    "icrp = Material(name=\"icrp\")\n",
    "water = Material(name=\"water\")\n",
    "\n",
    "materials = [icrp, water]"
   ]
  },
  {
   "cell_type": "markdown",
   "metadata": {},
   "source": [
    "On affiche les données calculées avec le présent modèle."
   ]
  },
  {
   "cell_type": "code",
   "execution_count": 4,
   "metadata": {
    "pycharm": {
     "is_executing": false
    }
   },
   "outputs": [
    {
     "data": {
      "text/plain": "<Figure size 432x288 with 1 Axes>",
      "image/png": "[encoded data removed]"
     },
     "metadata": {
      "needs_background": "light"
     },
     "output_type": "display_data"
    },
    {
     "data": {
      "text/plain": "<Figure size 432x288 with 1 Axes>",
      "image/png": "[encoded data removed]"
     },
     "metadata": {
      "needs_background": "light"
     },
     "output_type": "display_data"
    }
   ],
   "source": [
    "# We plot the Scol of the materials.\n",
    "\n",
    "for material in materials:\n",
    "    material.showScol()"
   ]
  },
  {
   "cell_type": "markdown",
   "metadata": {},
   "source": [
    "Plotting the NIST Data for comparison"
   ]
  },
  {
   "cell_type": "code",
   "execution_count": 5,
   "metadata": {
    "pycharm": {
     "is_executing": false
    }
   },
   "outputs": [
    {
     "data": {
      "text/plain": "<Figure size 432x288 with 1 Axes>",
      "image/png": "[encoded data removed]"
     },
     "metadata": {
      "needs_background": "light"
     },
     "output_type": "display_data"
    }
   ],
   "source": [
    "df_icrp = pandas.read_csv(f\"{os.getcwd()}//Data/NIST_DATA_ICRP.txt\", delimiter='|', header=2)\n",
    "df_icrp = df_icrp.drop(columns=df_icrp.columns[-1])\n",
    "data_icrp = df_icrp.to_numpy()\n",
    "\n",
    "\n",
    "fig = plt.figure()\n",
    "ax = fig.add_subplot(1, 1, 1)\n",
    "\n",
    "line, = ax.plot(data_icrp[:, 0], data_icrp[:, 1], color='blue', lw=2)\n",
    "ax.set_xscale('log')\n",
    "ax.set_title(\"Cortical bone (ICRP)\")\n",
    "ax.set_xlabel(\"Énergie total [$MeV$]\")\n",
    "ax.set_ylabel(\"Pouvoirs d'arrêt collisionnel \\n [$MeV \\; cm^2/g$]\")\n",
    "\n",
    "plt.grid()\n",
    "plt.show()"
   ]
  },
  {
   "cell_type": "code",
   "execution_count": 6,
   "metadata": {
    "pycharm": {
     "is_executing": false
    }
   },
   "outputs": [
    {
     "data": {
      "text/plain": "<Figure size 432x288 with 1 Axes>",
      "image/png": "[encoded data removed]"
     },
     "metadata": {
      "needs_background": "light"
     },
     "output_type": "display_data"
    }
   ],
   "source": [
    "df_water = pandas.read_csv(f\"{os.getcwd()}//Data/NIST_DATA_LIQUID_WATER.txt\", delimiter='|', header=2)\n",
    "df_water = df_water.drop(columns=df_water.columns[-1])\n",
    "data_water = df_water.to_numpy()\n",
    "\n",
    "\n",
    "fig = plt.figure()\n",
    "ax = fig.add_subplot(1, 1, 1)\n",
    "\n",
    "line, = ax.plot(data_water[:, 0], data_water[:, 1], color='red', lw=2)\n",
    "ax.set_xscale('log')\n",
    "ax.set_title(\"Eau liquide\")\n",
    "ax.set_xlabel(\"Énergie total [$MeV$]\")\n",
    "ax.set_ylabel(\"Pouvoirs d'arrêt collisionnel \\n [$MeV \\; cm^2/g$]\")\n",
    "\n",
    "plt.grid()\n",
    "plt.show()"
   ]
  },
  {
   "cell_type": "markdown",
   "metadata": {},
   "source": [
    "Les données semblent bien correspondent dans l'intervalle d'énergie $[3, \\infty)$ MeV."
   ]
  },
  {
   "cell_type": "markdown",
   "metadata": {},
   "source": [
    "# Portée des protons dans la matière"
   ]
  },
  {
   "cell_type": "markdown",
   "metadata": {},
   "source": [
    "## 3. Analyse dimensionnelle de R_CDSA"
   ]
  },
  {
   "cell_type": "markdown",
   "metadata": {},
   "source": [
    "Voici l'équation:\n",
    "\n",
    "$$R_{CSDA} = \\int_{0}^{T_i} \\frac{d T'}{S_{col}/\\rho}$$\n",
    "\n",
    "On peut voir sur le site du NIST que les unités de $R_{CSDA}$  sont des $[g/cm^2]$. À droite de l'équation, on intègre sur des MeV des \n",
    "$$\\frac{[g/cm^3]}{[cm]^2 * [MeV] * [cm^{-3}]}$$\n",
    "$$ = \\frac{[g]}{[cm]^2 * [MeV]} $$\n",
    "\n",
    "Ce qui nous donne les unités $[g/cm^2]$ à droite de l'équation, ce qui correspond bel et bien aux unités de $R_{CSDA}$."
   ]
  },
  {
   "cell_type": "markdown",
   "metadata": {},
   "source": [
    "## 4.\n",
    "\n",
    "Comme on peut voir dans les graphique précédent (Il faudrait supperposer le graphique du modèle sur le graphique du NIST) les courbes correspondent. Montrer que la tendance des courbes sont bonnes et logique ainsi de comparer avec les données du NIST."
   ]
  },
  {
   "cell_type": "markdown",
   "metadata": {},
   "source": [
    "## 5. Justifiez la nécessité d’employer une méthode numérique pour calculer la portée des protons."
   ]
  },
  {
   "cell_type": "markdown",
   "metadata": {},
   "source": [
    "# Détermination de R_CSDA par intégration numérique"
   ]
  },
  {
   "cell_type": "code",
   "execution_count": 6,
   "metadata": {
    "pycharm": {
     "is_executing": false
    }
   },
   "outputs": [],
   "source": []
  },
  {
   "cell_type": "code",
   "execution_count": 7,
   "metadata": {
    "pycharm": {
     "is_executing": false
    }
   },
   "outputs": [],
   "source": [
    "class MathFunction:\n",
    "    \n",
    "    NforAdaptativeIntegration: dict = dict()\n",
    "    \n",
    "    def __init__(self, func):\n",
    "        self.function = func\n",
    "        \n",
    "        self.integration_methods: dict = {\n",
    "            \"auto\": self.adaptative_trapezoid_integration,\n",
    "            \"trapezoid\": self.trapezoid_integration,\n",
    "            \"adapdative_trapezoid\": self.adaptative_trapezoid_integration\n",
    "        }\n",
    "    \n",
    "    def integrate(self, method: str = \"auto\", **kwargs):\n",
    "        assert method in self.integration_methods\n",
    "        return self.integration_methods[method](**kwargs)\n",
    "    \n",
    "    def findBestN_trapezoid_integration(self, **kwargs) -> (int, float):\n",
    "        assert \"bounds\" in kwargs\n",
    "        bounds = kwargs[\"bounds\"]\n",
    "        error_target = kwargs.get(\"error_target\", 1e-9)\n",
    "        max_iteration = kwargs.get(\"max_iteration\", 100)\n",
    "        \n",
    "        memory: dict = {\n",
    "            \"I_i\": self.trapezoid_integration(bounds=bounds, N=1),\n",
    "            \"I_i+1\": self.trapezoid_integration(bounds=bounds, N=2)\n",
    "        }\n",
    "            \n",
    "        bestN: int = 2\n",
    "        \n",
    "        error: float = np.inf\n",
    "        for i in range(1, max_iteration+1):\n",
    "            error = np.abs((memory[\"I_i+1\"] - memory[\"I_i\"])/3)\n",
    "            if error <= error_target:\n",
    "                break\n",
    "            \n",
    "            bestN = 2**(i+1)\n",
    "            \n",
    "            memory[\"I_i\"] = memory[\"I_i+1\"]\n",
    "            memory[\"I_i+1\"] = self.trapezoid_integration(bounds=bounds, N=bestN)\n",
    "        \n",
    "        self.NforAdaptativeIntegration[\"trapezoid\"] = bestN\n",
    "        \n",
    "        return bestN, error\n",
    "    \n",
    "    def adaptative_trapezoid_integration(self, **kwargs) -> (float, float):\n",
    "        assert \"bounds\" in kwargs\n",
    "        bounds = kwargs[\"bounds\"]\n",
    "        error_target = kwargs.get(\"error_target\", 1e-9)\n",
    "        max_iteration = kwargs.get(\"max_iteration\", 100)\n",
    "        \n",
    "        memory: dict = {\n",
    "            \"I_i\": self.trapezoid_integration(bounds=bounds, N=1),\n",
    "            \"I_i+1\": self.trapezoid_integration(bounds=bounds, N=2)\n",
    "        }\n",
    "        \n",
    "        error: float = np.inf\n",
    "        for i in range(1, max_iteration+1):\n",
    "            error = np.abs((memory[\"I_i+1\"] - memory[\"I_i\"])/3)\n",
    "            if error <= error_target:\n",
    "                break\n",
    "            \n",
    "            memory[\"I_i\"] = memory[\"I_i+1\"]\n",
    "            memory[\"I_i+1\"] = self.trapezoid_integration(bounds=bounds, N=2**(i+1))\n",
    "            \n",
    "        return memory[\"I_i+1\"], error\n",
    "    \n",
    "    def trapezoid_integration(self, **kwargs) -> float:\n",
    "        assert \"bounds\" in kwargs and \"N\" in kwargs\n",
    "        bounds = kwargs[\"bounds\"]\n",
    "        N = kwargs[\"N\"]\n",
    "        \n",
    "        X = np.linspace(bounds[0], bounds[1], N+1)\n",
    "        Y = self.function(X)\n",
    "        Y_d = Y[1:]\n",
    "        Y_g = Y[:-1]\n",
    "        h = (bounds[1] - bounds[0])/N\n",
    "        return (h/2) * np.sum(Y_g + Y_d)"
   ]
  },
  {
   "cell_type": "code",
   "execution_count": 8,
   "metadata": {
    "pycharm": {
     "is_executing": false
    }
   },
   "outputs": [],
   "source": [
    "def MaterialNewInit(self, name: str, composition: dict = None, density: float = None,\n",
    "                 mean_excitaiton_energy: float = None):\n",
    "    \n",
    "    self._name: str = name\n",
    "        \n",
    "    # setting the _composition attribute\n",
    "    if composition is not None:\n",
    "        self._composition = composition\n",
    "    elif name in Material._compositions:\n",
    "        self._composition = Material._compositions[name]\n",
    "    else:\n",
    "        assert \"This material is unknown, please set the composition dict parameter.\"\n",
    "\n",
    "    # setting the _density attribute\n",
    "    if density is not None:\n",
    "        self._density = density\n",
    "    elif name in Material._densities:\n",
    "        self._density = Material._densities[name]\n",
    "    else:\n",
    "        assert \"This material is unknown, please set the density parameter.\"\n",
    "\n",
    "    # setting the _mean_excitation_energy attribute\n",
    "    if mean_excitaiton_energy is not None:\n",
    "        self._mean_excitation_energy = mean_excitaiton_energy\n",
    "    elif name in Material._densities:\n",
    "        self._mean_excitation_energy = Material._mean_excitation_energies[name]\n",
    "    else:\n",
    "        assert \"This material is unknown, please set the mean_excitation_energy parameter.\"\n",
    "\n",
    "    # Updating the Material _compostions\n",
    "    if name not in Material._compositions:\n",
    "        Material._compositions[name] = composition\n",
    "\n",
    "    # Updating the Material _densities\n",
    "    if name not in Material._densities:\n",
    "        Material._densities[name] = density\n",
    "\n",
    "    # Updating the Material _mean_excitation_energies\n",
    "    if name not in Material._mean_excitation_energies:\n",
    "        Material._mean_excitation_energies[name] = mean_excitaiton_energy\n",
    "    \n",
    "    self.R_CSDA_integrand = MathFunction(lambda T: self.Density/self.getScol(T))\n",
    "\n",
    "Material.__init__ = MaterialNewInit\n",
    "\n",
    "def R_CSDA(self, bounds: [float, float] = [0.1, 100], integrationMethod=\"auto\", **kwargs):\n",
    "    return self.R_CSDA_integrand.integrate(method=integrationMethod, bounds=bounds, **kwargs)\n",
    "\n",
    "Material.R_CSDA = R_CSDA  # Adding the R_CSDA function to Material class as a new method"
   ]
  },
  {
   "cell_type": "code",
   "execution_count": 9,
   "metadata": {
    "pycharm": {
     "is_executing": false
    }
   },
   "outputs": [
    {
     "name": "stdout",
     "text": [
      "Porté des protons dans le matériel 'icrp': 4.6621300281730855 [cm], error: 4.1185603076125216e-10 [cm]\nPorté des protons dans le matériel 'water': 7.710811065633429 [cm], error: 8.799769801726143e-10 [cm]\n"
     ],
     "output_type": "stream"
    }
   ],
   "source": [
    "icrp = Material(name=\"icrp\")\n",
    "water = Material(name=\"water\")\n",
    "\n",
    "icrp_Rcsda = icrp.R_CSDA(bounds=[0.1, 100])\n",
    "water_Rcsda = water.R_CSDA(bounds=[0.1, 100])\n",
    "\n",
    "print(f\"Porté des protons dans le matériel '{icrp.Name}': {icrp_Rcsda[0]/icrp.Density} [cm], error: {icrp_Rcsda[1]} [cm]\")\n",
    "print(f\"Porté des protons dans le matériel '{water.Name}': {water_Rcsda[0]/water.Density} [cm], error: {water_Rcsda[1]} [cm]\")"
   ]
  },
  {
   "cell_type": "markdown",
   "metadata": {},
   "source": [
    "## 7. \n",
    "\n",
    "\n",
    "$$  $$"
   ]
  },
  {
   "cell_type": "markdown",
   "metadata": {},
   "source": [
    "## 9."
   ]
  },
  {
   "cell_type": "markdown",
   "metadata": {},
   "source": [
    "On va faire l'implémentation de Newman de la quadrature gaussienne."
   ]
  },
  {
   "cell_type": "code",
   "execution_count": 10,
   "metadata": {
    "pycharm": {
     "is_executing": false
    }
   },
   "outputs": [],
   "source": [
    "def gaussxq(self, N) -> (float, float):\n",
    "    # Initial approximation to roots of the Legendre polynomial\n",
    "    a = np.linspace(3,4*N-1,N)/(4*N+2)\n",
    "    x = np.cos(np.pi*a+1/(8*(N**2)*np.tan(a)))\n",
    "\n",
    "    # Find roots using Newton's method\n",
    "    epsilon = 1e-15\n",
    "    delta = 1.0\n",
    "    while delta > epsilon:\n",
    "        p0 = np.ones(N,float)\n",
    "        p1 = np.copy(x)\n",
    "        for k in range(1,N):\n",
    "            p0, p1 = p1, ((2*k+1)*x*p1-k*p0)/(k+1)\n",
    "        \n",
    "        dp = (N+1)*(p0-x*p1)/(1-x**2)\n",
    "        dx = p1/dp\n",
    "        x -= dx\n",
    "        delta = max(abs(dx))\n",
    "\n",
    "    # Calculate the weights\n",
    "    w = 2*((N+1)**2)/((N**2)*(1-x**2)*(dp**2))\n",
    "\n",
    "    return x, w\n",
    "\n",
    "MathFunction.gaussxq = gaussxq\n",
    "\n",
    "MathFunction.gaussxqValuesForN = dict()\n",
    "\n",
    "def gaussian_quadrature_integration(self, **kwargs) -> float:\n",
    "    # P.170 Computational physics\n",
    "    assert \"bounds\" in kwargs and \"N\" in kwargs\n",
    "    bounds = kwargs[\"bounds\"]\n",
    "    N = kwargs[\"N\"]\n",
    "    [a, b] = bounds\n",
    "    \n",
    "    # Calculate the sample points ans weights, then map them\n",
    "    # to the required integration domain\n",
    "    if N in MathFunction.gaussxqValuesForN:\n",
    "        x, w = MathFunction.gaussxqValuesForN[N]\n",
    "    else:\n",
    "        x, w = self.gaussxq(N)\n",
    "        MathFunction.gaussxqValuesForN[N] = (x, w)\n",
    "    \n",
    "    xp = 0.5*(b-a)*x + 0.5*(b+a)\n",
    "    wp = 0.5*(b-a)*w\n",
    "    \n",
    "    # perform the integration\n",
    "    # s = np.sum([wp[k]*self.function(xp[k]) for k in range(N)])\n",
    "    s = np.sum(wp*self.function(xp))\n",
    "    return s\n",
    "\n",
    "MathFunction.gaussian_quadrature_integration = gaussian_quadrature_integration\n",
    "\n",
    "def gaussian_quad_find_N(self, **kwargs) -> (int, float):\n",
    "    assert \"bounds\" in kwargs\n",
    "    bounds = kwargs[\"bounds\"]\n",
    "    error_target = kwargs.get(\"error_target\", 1e-9)\n",
    "    max_iteration = kwargs.get(\"max_iteration\", 100)\n",
    "\n",
    "    memory: dict = {\n",
    "        \"I_i\": self.gaussian_quadrature_integration(bounds=bounds, N=1),\n",
    "        \"I_i+1\": self.gaussian_quadrature_integration(bounds=bounds, N=2)\n",
    "    }\n",
    "\n",
    "    bestN: int = 2\n",
    "\n",
    "    error: float = np.inf\n",
    "    for i in range(1, max_iteration+1):\n",
    "        error = np.abs(memory[\"I_i+1\"] - memory[\"I_i\"])\n",
    "        if error <= error_target:\n",
    "            break\n",
    "\n",
    "        bestN = 2**(i+1)\n",
    "\n",
    "        memory[\"I_i\"] = memory[\"I_i+1\"]\n",
    "        memory[\"I_i+1\"] = self.gaussian_quadrature_integration(bounds=bounds, N=bestN)\n",
    "\n",
    "    return bestN, error\n",
    "\n",
    "MathFunction.gaussian_quad_find_N = gaussian_quad_find_N\n",
    "\n",
    "def adaptative_gaussian_quadrature(self, **kwargs) -> (float, float):\n",
    "    assert \"bounds\" in kwargs\n",
    "    N, error = self.gaussian_quad_find_N(**kwargs)\n",
    "    kwargs[\"N\"] = N\n",
    "    return self.gaussian_quadrature_integration(**kwargs), error\n",
    "\n",
    "MathFunction.adaptative_gaussian_quadrature = adaptative_gaussian_quadrature\n",
    "\n",
    "def newInit(self, func):\n",
    "    self.function = func\n",
    "\n",
    "    self.integration_methods: dict = {\n",
    "        \"auto\": self.adaptative_gaussian_quadrature,\n",
    "        \"trapezoid\": self.trapezoid_integration,\n",
    "        \"adapdative_trapezoid\": self.adaptative_trapezoid_integration,\n",
    "        \"adaptative_gaussian_quadrature\": self.adaptative_gaussian_quadrature,\n",
    "        \"gaussian_quadrature_integration\": self.gaussian_quadrature_integration\n",
    "    }\n",
    "\n",
    "MathFunction.__init__ = newInit"
   ]
  },
  {
   "cell_type": "markdown",
   "metadata": {},
   "source": [
    "Maintenant, nous allons afficher l'histograme de la portée des protons dans l'eau pour 10 000 protons ayant une énergies aléatoirement distribué de façon normale."
   ]
  },
  {
   "cell_type": "code",
   "execution_count": 11,
   "metadata": {
    "pycharm": {
     "is_executing": false
    }
   },
   "outputs": [],
   "source": [
    "water = Material(name=\"water\")\n",
    "proton_energies = np.random.normal(240, 3, 10_000)\n",
    "\n",
    "gaussN, gaussError = water.R_CSDA_integrand.gaussian_quad_find_N(bounds=[0.1, 240], error_target=1e-9)\n",
    "\n",
    "proton_ranges = [water.R_CSDA(bounds=[0.1, e], integrationMethod=\"gaussian_quadrature_integration\", N=gaussN) for e in proton_energies]"
   ]
  },
  {
   "cell_type": "code",
   "execution_count": 12,
   "metadata": {
    "pycharm": {
     "is_executing": false
    }
   },
   "outputs": [
    {
     "data": {
      "text/plain": "<Figure size 432x288 with 1 Axes>",
      "image/png": "[encoded data removed]"
     },
     "metadata": {
      "needs_background": "light"
     },
     "output_type": "display_data"
    }
   ],
   "source": [
    "plt.hist(proton_ranges, bins=100)\n",
    "plt.title(f\"Histograme de la portée des protons dans l’{water.Name} \\n pour {len(proton_ranges)} protons. \"\n",
    "          f\"\\n erreur: {gaussError:.2e} [cm]\")\n",
    "plt.show()"
   ]
  },
  {
   "cell_type": "markdown",
   "metadata": {},
   "source": [
    "Ici, on test le temps d'exécution de notre méthode *R_CSDA* à l'aide du module timeit. Nous allosn lancer 10 000 exécutions pour simuler 10 000 protons, compter le temps requis et trouver le temps d'exécution moyen pour un proton."
   ]
  },
  {
   "cell_type": "code",
   "execution_count": 13,
   "metadata": {
    "pycharm": {
     "is_executing": false
    }
   },
   "outputs": [],
   "source": [
    "def integrationMethodTimeTester(integrationMethod, material, n_protons: int = 10_000, **kwargs):\n",
    "    shootProtonInMaterial = lambda: material.R_CSDA(bounds=[0.1, np.random.normal(240, 3, 1)], integrationMethod=integrationMethod, N=kwargs.get('N'))\n",
    "\n",
    "    total_execution_time = timeit.timeit(shootProtonInMaterial, number=n_protons)\n",
    "    mean_execution_time = total_execution_time/n_protons\n",
    "\n",
    "    print(f\"Moyenne d'exécution pour un proton avec la methode {integrationMethod}: {mean_execution_time:.3e} s\")"
   ]
  },
  {
   "cell_type": "code",
   "execution_count": 14,
   "metadata": {
    "pycharm": {
     "is_executing": false
    }
   },
   "outputs": [
    {
     "name": "stdout",
     "text": [
      "Moyenne d'exécution pour un proton avec la methode gaussian_quadrature_integration: 1.289e-04 s\n"
     ],
     "output_type": "stream"
    }
   ],
   "source": [
    "integrationMethodTimeTester(\"gaussian_quadrature_integration\", Material(name=\"water\"), N=gaussN)"
   ]
  },
  {
   "cell_type": "markdown",
   "metadata": {},
   "source": [
    "# 10. On test *trapezoid*"
   ]
  },
  {
   "cell_type": "code",
   "execution_count": 15,
   "metadata": {
    "pycharm": {
     "is_executing": false
    }
   },
   "outputs": [
    {
     "data": {
      "text/plain": "<Figure size 432x288 with 1 Axes>",
      "image/png": "[encoded data removed]"
     },
     "metadata": {
      "needs_background": "light"
     },
     "output_type": "display_data"
    },
    {
     "name": "stdout",
     "text": [
      "Moyenne d'exécution pour un proton avec la methode trapezoid: 3.463e-03 s\n"
     ],
     "output_type": "stream"
    }
   ],
   "source": [
    "trapN, trapError = water.R_CSDA_integrand.findBestN_trapezoid_integration(bounds=[0.1, 240], error_target=1e-9)\n",
    "proton_ranges = [water.R_CSDA(bounds=[0.1, e], integrationMethod=\"trapezoid\", N=trapN) for e in proton_energies]\n",
    "plt.hist(proton_ranges, bins=100)\n",
    "plt.title(f\"Histograme de la portée des protons dans l’{water.Name} \\n pour {len(proton_ranges)} protons. \"\n",
    "          f\"\\n erreur: {trapError:.2e} [cm]\")\n",
    "plt.show()\n",
    "\n",
    "integrationMethodTimeTester(\"trapezoid\", Material(name=\"water\"), N=trapN)"
   ]
  },
  {
   "cell_type": "markdown",
   "metadata": {},
   "source": [
    "# 11. On test *scipy.integrate.quad*"
   ]
  },
  {
   "cell_type": "code",
   "execution_count": 16,
   "metadata": {
    "pycharm": {
     "is_executing": false
    }
   },
   "outputs": [
    {
     "data": {
      "text/plain": "<Figure size 432x288 with 1 Axes>",
      "image/png": "[encoded data removed]"
     },
     "metadata": {
      "needs_background": "light"
     },
     "output_type": "display_data"
    },
    {
     "name": "stdout",
     "text": [
      "Moyenne d'exécution pour un proton avec la methode scipy.integrate.quad: 5.271e-03 s\n"
     ],
     "output_type": "stream"
    }
   ],
   "source": [
    "import scipy.integrate as scipyIntegration\n",
    "\n",
    "integrand = lambda T: water.Density/water.getScol(T)\n",
    "scipy_R_CSDA = lambda e: scipyIntegration.quad(integrand, 0.1, e)\n",
    "\n",
    "proton_energies = np.random.normal(240, 3, 10)\n",
    "proton_ranges = [scipy_R_CSDA(e) for e in proton_energies]\n",
    "\n",
    "plt.hist(proton_ranges, bins=100)\n",
    "plt.title(f\"Histograme de la portée des protons dans l’{water.Name} \\n pour {len(proton_ranges)} protons\")\n",
    "plt.show()\n",
    "\n",
    "shootProtonInMaterial = lambda: scipyIntegration.quad(integrand, 0.1, np.random.normal(240, 3, 1))\n",
    "total_execution_time = timeit.timeit(shootProtonInMaterial, number=len(proton_ranges))\n",
    "mean_execution_time = total_execution_time/len(proton_ranges)\n",
    "\n",
    "print(f\"Moyenne d'exécution pour un proton avec la methode scipy.integrate.quad: {mean_execution_time:.3e} s\")"
   ]
  },
  {
   "cell_type": "markdown",
   "metadata": {},
   "source": [
    "Ici, on explique ce que fait en détail *scipy.integrate.quad*"
   ]
  },
  {
   "cell_type": "markdown",
   "metadata": {
    "pycharm": {
     "is_executing": false,
     "name": "#%% md\n"
    }
   },
   "source": [
    "# 13.\n",
    "\n",
    "On construit la nouvelle méthode pour calculer l'énergie déposé des protons dans un milieu."
   ]
  },
  {
   "cell_type": "code",
   "execution_count": 17,
   "outputs": [],
   "source": [
    "def MaterialNewInit(self, name: str, composition: dict = None, density: float = None,\n",
    "                 mean_excitaiton_energy: float = None):\n",
    "    \n",
    "    self._name: str = name\n",
    "        \n",
    "    # setting the _composition attribute\n",
    "    if composition is not None:\n",
    "        self._composition = composition\n",
    "    elif name in Material._compositions:\n",
    "        self._composition = Material._compositions[name]\n",
    "    else:\n",
    "        assert \"This material is unknown, please set the composition dict parameter.\"\n",
    "\n",
    "    # setting the _density attribute\n",
    "    if density is not None:\n",
    "        self._density = density\n",
    "    elif name in Material._densities:\n",
    "        self._density = Material._densities[name]\n",
    "    else:\n",
    "        assert \"This material is unknown, please set the density parameter.\"\n",
    "\n",
    "    # setting the _mean_excitation_energy attribute\n",
    "    if mean_excitaiton_energy is not None:\n",
    "        self._mean_excitation_energy = mean_excitaiton_energy\n",
    "    elif name in Material._densities:\n",
    "        self._mean_excitation_energy = Material._mean_excitation_energies[name]\n",
    "    else:\n",
    "        assert \"This material is unknown, please set the mean_excitation_energy parameter.\"\n",
    "\n",
    "    # Updating the Material _compostions\n",
    "    if name not in Material._compositions:\n",
    "        Material._compositions[name] = composition\n",
    "\n",
    "    # Updating the Material _densities\n",
    "    if name not in Material._densities:\n",
    "        Material._densities[name] = density\n",
    "\n",
    "    # Updating the Material _mean_excitation_energies\n",
    "    if name not in Material._mean_excitation_energies:\n",
    "        Material._mean_excitation_energies[name] = mean_excitaiton_energy\n",
    "    \n",
    "    self.R_CSDA_integrand = MathFunction(lambda T: self.Density/self.getScol(T))\n",
    "    self.displacementStep_integrand = MathFunction(lambda T: 1/self.getScol(T))\n",
    "    \n",
    "Material.__init__ = MaterialNewInit\n",
    "\n",
    "def getDisplacementStep(self, bounds: [float, float] = [0, 100], integrationMethod=\"auto\", **kwargs):\n",
    "    return self.displacementStep_integrand.integrate(method=integrationMethod, bounds=bounds, **kwargs)\n",
    "\n",
    "Material.getDisplacementStep = getDisplacementStep\n",
    "\n",
    "def showDepositEnergyByDepth(self, proton_initial_energy, **kwargs):\n",
    "    fig = plt.figure()\n",
    "    ax = fig.add_subplot(1, 1, 1)\n",
    "\n",
    "    T = np.linspace(0, proton_initial_energy, 10)\n",
    "\n",
    "    line, = ax.plot([self.getDisplacementStep(bounds=[0.1, e], **kwargs) for e in T], T, color='blue', lw=2)\n",
    "    ax.set_title(f\"Proton de {proton_initial_energy} MeV dans le matériel: {self.Name}\")\n",
    "    ax.set_xlabel(f\"Profondeur de {self.Name} [cm]\")\n",
    "    ax.set_ylabel(f\"Dépôt d’énergie [MeV]\")\n",
    "\n",
    "    plt.grid()\n",
    "    plt.show()\n",
    "\n",
    "Material.showDepositEnergyByDepth = showDepositEnergyByDepth"
   ],
   "metadata": {
    "collapsed": false,
    "pycharm": {
     "name": "#%%\n",
     "is_executing": false
    }
   }
  },
  {
   "cell_type": "code",
   "execution_count": 19,
   "outputs": [
    {
     "data": {
      "text/plain": "<Figure size 432x288 with 1 Axes>",
      "image/png": "[encoded data removed]"
     },
     "metadata": {
      "needs_background": "light"
     },
     "output_type": "display_data"
    },
    {
     "data": {
      "text/plain": "<Figure size 432x288 with 1 Axes>",
      "image/png": "[encoded data removed]"
     },
     "metadata": {
      "needs_background": "light"
     },
     "output_type": "display_data"
    },
    {
     "data": {
      "text/plain": "<Figure size 432x288 with 1 Axes>",
      "image/png": "[encoded data removed]"
     },
     "metadata": {
      "needs_background": "light"
     },
     "output_type": "display_data"
    }
   ],
   "source": [
    "proton_inital_energies: np.ndarray = np.array([75, 100, 150])  # MeV\n",
    "\n",
    "icrp = Material(name=\"icrp\")\n",
    "water = Material(name=\"water\")\n",
    "for e in proton_inital_energies:\n",
    "    gaussN, gaussError = water.R_CSDA_integrand.gaussian_quad_find_N(bounds=[0.1, e], error_target=1e-9)\n",
    "    water.showDepositEnergyByDepth(e, integrationMethod=\"gaussian_quadrature_integration\", N=gaussN)\n",
    "\n"
   ],
   "metadata": {
    "collapsed": false,
    "pycharm": {
     "name": "#%%\n",
     "is_executing": false
    }
   }
  },
  {
   "cell_type": "markdown",
   "source": [
    "# 14.\n",
    "Il devient beaucoup plus avantageux d'utiliser \n",
    "la thérapie au proton lorsque la tumeur cible est localisée\n",
    "dans un millieu critique du corps tel que le cerveau. Puisque \n",
    "le proton dépose la majorité de son énergie dans une très petite zone \n",
    "autour de la position d'arrêt complet, celui-ci dépose donc moins \n",
    "d'énergie dans les tissus environnants qu'un photon. Ce qui \n",
    "implique donc que le dépot de dose est plus localisé que dans le cas \n",
    "d'une thérapie classic aux photons, ce qui par le même fait \n",
    "réduit les dommages engendrés aux tissus envirronnants. Cet avantage\n",
    "devient critique dans le cas d'une tumeur au cerveau puisque l'objectif \n",
    "d'engendrer un minimum de dommages cerébraux.\n",
    "\n"
   ],
   "metadata": {
    "collapsed": false
   }
  }
 ],
 "metadata": {
  "kernelspec": {
   "name": "python3",
   "language": "python",
   "display_name": "Python 3"
  },
  "language_info": {
   "codemirror_mode": {
    "name": "ipython",
    "version": 3
   },
   "file_extension": ".py",
   "mimetype": "text/x-python",
   "name": "python",
   "nbconvert_exporter": "python",
   "pygments_lexer": "ipython3",
   "version": "3.7.3"
  },
  "pycharm": {
   "stem_cell": {
    "cell_type": "raw",
    "source": [],
    "metadata": {
     "collapsed": false
    }
   }
  }
 },
 "nbformat": 4,
 "nbformat_minor": 2
}