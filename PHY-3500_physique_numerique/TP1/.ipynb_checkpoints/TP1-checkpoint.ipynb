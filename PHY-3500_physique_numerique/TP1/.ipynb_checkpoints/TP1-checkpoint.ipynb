{
 "cells": [
  {
   "cell_type": "markdown",
   "metadata": {},
   "source": [
    "# TP 1: Parcours des protons dans la matière"
   ]
  },
  {
   "cell_type": "markdown",
   "metadata": {},
   "source": [
    "## Question 1"
   ]
  },
  {
   "cell_type": "markdown",
   "metadata": {},
   "source": [
    "Selon l'article au lien suivant:\n",
    "\n",
    "$$\\href{https://www.ncbi.nlm.nih.gov/pmc/articles/PMC4407514/}{https://www.ncbi.nlm.nih.gov/pmc/articles/PMC4407514/}$$\n",
    "\n",
    "Nous avons que l'énergie ($T$) va de 1 Mev jusqu'à 250 Mev."
   ]
  },
  {
   "cell_type": "markdown",
   "metadata": {},
   "source": [
    "Avec la relativité restreinte, nous avons que\n",
    "\n",
    "$$T = (\\gamma - 1) m_0 c^2$$\n",
    "\n",
    "alors,\n",
    "\n",
    "$$\\implies \\gamma = \\frac{T}{m_0 c^2} + 1 $$"
   ]
  },
  {
   "cell_type": "markdown",
   "metadata": {},
   "source": [
    "De plus, selon la relativité restreinte encore:\n",
    "\n",
    "$$\\gamma = \\frac{1}{\\sqrt{1 - \\beta^2}}$$"
   ]
  },
  {
   "cell_type": "code",
   "execution_count": null,
   "metadata": {},
   "outputs": [],
   "source": []
  }
 ],
 "metadata": {
  "kernelspec": {
   "display_name": "Python 3",
   "language": "python",
   "name": "python3"
  },
  "language_info": {
   "codemirror_mode": {
    "name": "ipython",
    "version": 3
   },
   "file_extension": ".py",
   "mimetype": "text/x-python",
   "name": "python",
   "nbconvert_exporter": "python",
   "pygments_lexer": "ipython3",
   "version": "3.7.3"
  }
 },
 "nbformat": 4,
 "nbformat_minor": 2
}
